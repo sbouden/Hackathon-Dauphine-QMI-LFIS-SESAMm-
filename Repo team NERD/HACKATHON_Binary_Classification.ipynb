{
 "cells": [
  {
   "cell_type": "markdown",
   "metadata": {},
   "source": [
    "**HACKATHON DAUPHINE / SESAMM / LFIS**\n",
    "\n",
    "**Binary Classification**"
   ]
  },
  {
   "cell_type": "code",
   "execution_count": 1,
   "metadata": {},
   "outputs": [],
   "source": [
    "import numpy as np\n",
    "import matplotlib.pyplot as plt\n",
    "import pandas as pd\n",
    "import seaborn as sns\n",
    "import missingno as mno\n",
    "import warnings\n",
    "warnings.filterwarnings('ignore')\n",
    "plt.style.use('fivethirtyeight')\n",
    "\n",
    "import joblib\n",
    "# import shap\n",
    "import xgboost as xgb\n",
    "import lightgbm as lgb\n",
    "\n",
    "from xgboost import XGBClassifier\n",
    "from lightgbm import LGBMClassifier\n",
    "from sklearn.linear_model import LogisticRegression\n",
    "from sklearn.svm import LinearSVC, SVC\n",
    "from sklearn.ensemble import RandomForestClassifier, ExtraTreesClassifier\n",
    "from sklearn.model_selection import cross_val_score, cross_val_predict, train_test_split, \\\n",
    "                                    StratifiedKFold, RandomizedSearchCV\n",
    "from sklearn.metrics import roc_auc_score, roc_curve, precision_recall_curve, \\\n",
    "                            average_precision_score, recall_score, \\\n",
    "                            precision_score, f1_score, accuracy_score, \\\n",
    "                            mean_squared_error\n",
    "from sklearn.preprocessing import StandardScaler, RobustScaler\n",
    "from sklearn.utils import resample\n",
    "from sklearn.impute import SimpleImputer\n",
    "from sklearn.base import BaseEstimator, TransformerMixin, ClassifierMixin\n",
    "from sklearn.discriminant_analysis import LinearDiscriminantAnalysis\n",
    "from sklearn.kernel_approximation import Nystroem\n",
    "from sklearn.calibration import CalibratedClassifierCV\n",
    "\n",
    "from category_encoders import OneHotEncoder, TargetEncoder, OrdinalEncoder\n",
    "\n",
    "from pprint import pprint\n",
    "\n",
    "RANDOM_STATE = 1805"
   ]
  },
  {
   "cell_type": "code",
   "execution_count": 2,
   "metadata": {},
   "outputs": [],
   "source": [
    "train_data = pd.read_csv('Data/ref_train_x.csv')\n",
    "train_labels = pd.read_csv('Data/ref_train_y.csv', header=None)\n",
    "test_data = pd.read_csv('Data/ref_test_x.csv')\n",
    "\n",
    "# sp500_valid_data.columns = sp500_train_data.columns\n",
    "# sp500_test_data.columns = sp500_train_data.columns"
   ]
  },
  {
   "cell_type": "code",
   "execution_count": 3,
   "metadata": {},
   "outputs": [
    {
     "name": "stdout",
     "output_type": "stream",
     "text": [
      "(15249, 23)\n",
      "(15249, 1)\n",
      "(4191, 23)\n"
     ]
    }
   ],
   "source": [
    "print(train_data.shape)\n",
    "print(train_labels.shape)\n",
    "print(test_data.shape)"
   ]
  },
  {
   "cell_type": "markdown",
   "metadata": {},
   "source": [
    "# **Exploratory Data Analysis**"
   ]
  },
  {
   "cell_type": "code",
   "execution_count": 4,
   "metadata": {},
   "outputs": [],
   "source": [
    "train_data = train_data.drop('raw_id', axis=1)"
   ]
  },
  {
   "cell_type": "markdown",
   "metadata": {},
   "source": [
    "## Missing Values"
   ]
  },
  {
   "cell_type": "code",
   "execution_count": 5,
   "metadata": {},
   "outputs": [
    {
     "data": {
      "text/plain": [
       "sector                    0.000000\n",
       "exchange                  0.000000\n",
       "return_1y                 0.000066\n",
       "return_1m                 0.000066\n",
       "return_1w                 0.000066\n",
       "realised_vol_1y           0.000131\n",
       "realised_vol_1w           0.000197\n",
       "realised_vol_1m           0.000197\n",
       "implied_vol_3m            0.000328\n",
       "delta_vol_1w              0.000656\n",
       "publication_date_funda    0.000984\n",
       "net_income                0.001115\n",
       "sales                     0.001180\n",
       "earnings_implied_obs      0.001312\n",
       "net_debt                  0.001312\n",
       "shareholders_equity       0.001377\n",
       "cash_flow                 0.001705\n",
       "payout_ratio              0.006164\n",
       "ratio_put_call            0.006230\n",
       "delta_vol_1y              0.014952\n",
       "ebit                      0.122303\n",
       "ebitda                    0.122565\n",
       "dtype: float64"
      ]
     },
     "execution_count": 5,
     "metadata": {},
     "output_type": "execute_result"
    }
   ],
   "source": [
    "train_data.isnull().sum().sort_values() / len(train_data)"
   ]
  },
  {
   "cell_type": "markdown",
   "metadata": {},
   "source": [
    "## Categorical & Numerical Variables"
   ]
  },
  {
   "cell_type": "code",
   "execution_count": 6,
   "metadata": {},
   "outputs": [
    {
     "data": {
      "text/plain": [
       "exchange                      2\n",
       "sector                       20\n",
       "publication_date_funda      401\n",
       "payout_ratio               5163\n",
       "earnings_implied_obs      11224\n",
       "ebitda                    12262\n",
       "ebit                      12264\n",
       "delta_vol_1w              13004\n",
       "delta_vol_1y              13588\n",
       "implied_vol_3m            13659\n",
       "ratio_put_call            13971\n",
       "sales                     14005\n",
       "cash_flow                 14010\n",
       "shareholders_equity       14013\n",
       "net_debt                  14014\n",
       "net_income                14017\n",
       "return_1w                 14075\n",
       "return_1y                 14077\n",
       "realised_vol_1w           14080\n",
       "return_1m                 14080\n",
       "realised_vol_1m           14080\n",
       "realised_vol_1y           14081\n",
       "dtype: int64"
      ]
     },
     "execution_count": 6,
     "metadata": {},
     "output_type": "execute_result"
    }
   ],
   "source": [
    "train_data.nunique().sort_values()"
   ]
  },
  {
   "cell_type": "code",
   "execution_count": 7,
   "metadata": {},
   "outputs": [],
   "source": [
    "# train_data['publication_date_funda']"
   ]
  },
  {
   "cell_type": "code",
   "execution_count": 8,
   "metadata": {},
   "outputs": [],
   "source": [
    "categorical_variables = ['sector']\n",
    "categorical_variables_plus = ['sector']\n",
    "numerical_variables = [col for col in train_data.columns if col not in categorical_variables_plus]"
   ]
  },
  {
   "cell_type": "code",
   "execution_count": 9,
   "metadata": {},
   "outputs": [
    {
     "name": "stdout",
     "output_type": "stream",
     "text": [
      "21\n",
      "1\n"
     ]
    }
   ],
   "source": [
    "print(len(numerical_variables))\n",
    "print(len(categorical_variables_plus))"
   ]
  },
  {
   "cell_type": "markdown",
   "metadata": {},
   "source": [
    "## Target Distribution"
   ]
  },
  {
   "cell_type": "code",
   "execution_count": 10,
   "metadata": {},
   "outputs": [],
   "source": [
    "y = train_labels.values.squeeze()"
   ]
  },
  {
   "cell_type": "code",
   "execution_count": 11,
   "metadata": {},
   "outputs": [
    {
     "data": {
      "text/plain": [
       "0.26768968456947995"
      ]
     },
     "execution_count": 11,
     "metadata": {},
     "output_type": "execute_result"
    }
   ],
   "source": [
    "np.mean(y)"
   ]
  },
  {
   "cell_type": "markdown",
   "metadata": {},
   "source": [
    "# **Feature Engineering**"
   ]
  },
  {
   "cell_type": "markdown",
   "metadata": {},
   "source": [
    "## Categorical Features\n",
    "\n",
    "**One-Hot Encoding = Linear Models**"
   ]
  },
  {
   "cell_type": "code",
   "execution_count": 12,
   "metadata": {},
   "outputs": [],
   "source": [
    "# %%time\n",
    "# train_data_ = train_data.drop('publication_date_funda', axis=1)\n",
    "\n",
    "# oneHotTransformer = OneHotEncoder(cols=categorical_variables)\n",
    "# oneHotTransformer.fit(train_data)\n",
    "\n",
    "# X_train_cat = oneHotTransformer.transform(train_data)\n",
    "# print(X_train_cat.shape)"
   ]
  },
  {
   "cell_type": "code",
   "execution_count": 13,
   "metadata": {},
   "outputs": [],
   "source": [
    "# X_train_cat['exchange'] = X_train_cat['exchange'].apply(lambda x: 1.0 if x=='US' else 0.0)"
   ]
  },
  {
   "cell_type": "markdown",
   "metadata": {},
   "source": [
    "**Label Encoding = Random Forests + XGBoost + LightGBM**"
   ]
  },
  {
   "cell_type": "code",
   "execution_count": 14,
   "metadata": {},
   "outputs": [],
   "source": [
    "# %%time\n",
    "# labelTransformer = OrdinalEncoder(cols=categorical_variables)\n",
    "# labelTransformer.fit(train_data)\n",
    "\n",
    "# X_train_cat_label = labelTransformer.transform(train_data)\n",
    "# print(X_train_cat_label.shape)"
   ]
  },
  {
   "cell_type": "code",
   "execution_count": 15,
   "metadata": {},
   "outputs": [],
   "source": [
    "# X_train_cat_label['exchange'] = X_train_cat_label['exchange'].apply(lambda x: 1.0 if x=='US' else 0.0)"
   ]
  },
  {
   "cell_type": "markdown",
   "metadata": {},
   "source": [
    "**Target Encoding = All Models**"
   ]
  },
  {
   "cell_type": "code",
   "execution_count": 16,
   "metadata": {},
   "outputs": [],
   "source": [
    "# train_data.shape, y.shape"
   ]
  },
  {
   "cell_type": "code",
   "execution_count": 17,
   "metadata": {},
   "outputs": [
    {
     "name": "stdout",
     "output_type": "stream",
     "text": [
      "(15249, 22)\n",
      "Wall time: 224 ms\n"
     ]
    }
   ],
   "source": [
    "%%time\n",
    "targetEncoder = TargetEncoder(cols=categorical_variables)\n",
    "targetEncoder.fit(train_data, y)\n",
    "\n",
    "X_train_cat = targetEncoder.transform(train_data)\n",
    "print(X_train_cat.shape)"
   ]
  },
  {
   "cell_type": "code",
   "execution_count": 18,
   "metadata": {},
   "outputs": [
    {
     "data": {
      "text/html": [
       "<div>\n",
       "<style scoped>\n",
       "    .dataframe tbody tr th:only-of-type {\n",
       "        vertical-align: middle;\n",
       "    }\n",
       "\n",
       "    .dataframe tbody tr th {\n",
       "        vertical-align: top;\n",
       "    }\n",
       "\n",
       "    .dataframe thead th {\n",
       "        text-align: right;\n",
       "    }\n",
       "</style>\n",
       "<table border=\"1\" class=\"dataframe\">\n",
       "  <thead>\n",
       "    <tr style=\"text-align: right;\">\n",
       "      <th></th>\n",
       "      <th>sector</th>\n",
       "    </tr>\n",
       "  </thead>\n",
       "  <tbody>\n",
       "    <tr>\n",
       "      <th>0</th>\n",
       "      <td>0.145929</td>\n",
       "    </tr>\n",
       "    <tr>\n",
       "      <th>1</th>\n",
       "      <td>0.145929</td>\n",
       "    </tr>\n",
       "    <tr>\n",
       "      <th>2</th>\n",
       "      <td>0.145929</td>\n",
       "    </tr>\n",
       "    <tr>\n",
       "      <th>3</th>\n",
       "      <td>0.145929</td>\n",
       "    </tr>\n",
       "    <tr>\n",
       "      <th>4</th>\n",
       "      <td>0.145929</td>\n",
       "    </tr>\n",
       "  </tbody>\n",
       "</table>\n",
       "</div>"
      ],
      "text/plain": [
       "     sector\n",
       "0  0.145929\n",
       "1  0.145929\n",
       "2  0.145929\n",
       "3  0.145929\n",
       "4  0.145929"
      ]
     },
     "execution_count": 18,
     "metadata": {},
     "output_type": "execute_result"
    }
   ],
   "source": [
    "X_train_cat[categorical_variables].head()"
   ]
  },
  {
   "cell_type": "code",
   "execution_count": 19,
   "metadata": {},
   "outputs": [],
   "source": [
    "X_train_cat['exchange'] = X_train_cat['exchange'].apply(lambda x: 1.0 if x=='US' else 0.0)"
   ]
  },
  {
   "cell_type": "markdown",
   "metadata": {},
   "source": [
    "## Missing Values"
   ]
  },
  {
   "cell_type": "code",
   "execution_count": 20,
   "metadata": {},
   "outputs": [
    {
     "data": {
      "text/plain": [
       "(15249, 22)"
      ]
     },
     "execution_count": 20,
     "metadata": {},
     "output_type": "execute_result"
    }
   ],
   "source": [
    "X_train_cat.shape"
   ]
  },
  {
   "cell_type": "code",
   "execution_count": 21,
   "metadata": {},
   "outputs": [],
   "source": [
    "imputer = SimpleImputer(strategy='median')\n",
    "X_train_linear = imputer.fit_transform(X_train_cat)\n",
    "X_train_linear = pd.DataFrame(X_train_linear, columns=X_train_cat.columns,\n",
    "                              index=X_train_cat.index)"
   ]
  },
  {
   "cell_type": "code",
   "execution_count": 22,
   "metadata": {},
   "outputs": [
    {
     "data": {
      "text/plain": [
       "0"
      ]
     },
     "execution_count": 22,
     "metadata": {},
     "output_type": "execute_result"
    }
   ],
   "source": [
    "X_train_linear.isnull().sum().sum()"
   ]
  },
  {
   "cell_type": "markdown",
   "metadata": {},
   "source": [
    "## Feature Scaling"
   ]
  },
  {
   "cell_type": "code",
   "execution_count": 23,
   "metadata": {},
   "outputs": [],
   "source": [
    "robustScaler = RobustScaler()\n",
    "X_train_linear[numerical_variables] = \\\n",
    "            robustScaler.fit_transform(X_train_linear[numerical_variables])"
   ]
  },
  {
   "cell_type": "code",
   "execution_count": 24,
   "metadata": {},
   "outputs": [],
   "source": [
    "scaler = StandardScaler()\n",
    "X_train_linear[numerical_variables] = \\\n",
    "            scaler.fit_transform(X_train_linear[numerical_variables])"
   ]
  },
  {
   "cell_type": "markdown",
   "metadata": {},
   "source": [
    "## Feature Selection"
   ]
  },
  {
   "cell_type": "code",
   "execution_count": 25,
   "metadata": {},
   "outputs": [],
   "source": [
    "df = X_train_linear.copy()\n",
    "df['target'] = y"
   ]
  },
  {
   "cell_type": "code",
   "execution_count": 26,
   "metadata": {},
   "outputs": [],
   "source": [
    "label_correlation = df.corr()"
   ]
  },
  {
   "cell_type": "code",
   "execution_count": 27,
   "metadata": {},
   "outputs": [
    {
     "data": {
      "text/plain": [
       "target                    1.000000\n",
       "sector                    0.109732\n",
       "realised_vol_1y           0.045618\n",
       "sales                     0.024218\n",
       "implied_vol_3m            0.020744\n",
       "ebitda                    0.018415\n",
       "publication_date_funda    0.017575\n",
       "ratio_put_call            0.016305\n",
       "ebit                      0.012094\n",
       "return_1w                 0.008004\n",
       "realised_vol_1m           0.005076\n",
       "net_debt                  0.004012\n",
       "cash_flow                -0.000590\n",
       "realised_vol_1w          -0.001610\n",
       "delta_vol_1y             -0.001748\n",
       "shareholders_equity      -0.002668\n",
       "net_income               -0.008335\n",
       "payout_ratio             -0.013110\n",
       "return_1m                -0.017021\n",
       "delta_vol_1w             -0.018510\n",
       "exchange                 -0.027339\n",
       "return_1y                -0.030697\n",
       "earnings_implied_obs     -0.031238\n",
       "Name: target, dtype: float64"
      ]
     },
     "execution_count": 27,
     "metadata": {},
     "output_type": "execute_result"
    }
   ],
   "source": [
    "label_correlation['target'].sort_values(ascending=False)"
   ]
  },
  {
   "cell_type": "markdown",
   "metadata": {},
   "source": [
    "## New Features"
   ]
  },
  {
   "cell_type": "code",
   "execution_count": 28,
   "metadata": {},
   "outputs": [],
   "source": [
    "def create_new_features(X_train_linear):\n",
    "    X_train_linear['ebitda / net_debt'] = X_train_linear['ebitda'] / X_train_linear['ebitda']\n",
    "    X_train_linear['ebitda / cash_flow'] = X_train_linear['ebitda'] / X_train_linear['cash_flow']\n",
    "    X_train_linear['ebitda / net_income'] = X_train_linear['ebitda'] / X_train_linear['net_income']\n",
    "    X_train_linear['ebitda / payout_ratio'] = X_train_linear['ebitda'] / X_train_linear['payout_ratio']\n",
    "    X_train_linear['ebitda / earnings_implied_obs'] = X_train_linear['ebitda'] / X_train_linear['earnings_implied_obs']\n",
    "\n",
    "    X_train_linear['ebit / net_debt'] = X_train_linear['ebit'] / X_train_linear['net_debt']\n",
    "    X_train_linear['ebit / cash_flow'] = X_train_linear['ebit'] / X_train_linear['cash_flow']\n",
    "    X_train_linear['ebit / net_income'] = X_train_linear['ebit'] / X_train_linear['net_income']\n",
    "    X_train_linear['ebit / payout_ratio'] = X_train_linear['ebit'] / X_train_linear['payout_ratio']\n",
    "    X_train_linear['ebit / earnings_implied_obs'] = X_train_linear['ebit'] / X_train_linear['earnings_implied_obs']\n",
    "\n",
    "    X_train_linear['earnings_implied_obs / net_debt'] = X_train_linear['earnings_implied_obs'] / X_train_linear['net_debt']\n",
    "    X_train_linear['earnings_implied_obs / cash_flow'] =  X_train_linear['earnings_implied_obs'] / X_train_linear['cash_flow']\n",
    "    X_train_linear['earnings_implied_obs / net_income'] =  X_train_linear['earnings_implied_obs'] / X_train_linear['net_income']\n",
    "    X_train_linear['earnings_implied_obs / payout_ratio'] =  X_train_linear['earnings_implied_obs'] / X_train_linear['payout_ratio']\n",
    "    \n",
    "    X_train_linear['realised_vol_1y / realised_vol_1m'] = X_train_linear['realised_vol_1y'] / X_train_linear['realised_vol_1m']\n",
    "    X_train_linear['realised_vol_1y / realised_vol_1w'] = X_train_linear['realised_vol_1y'] / X_train_linear['realised_vol_1w']\n",
    "    X_train_linear['realised_vol_1y / publication_date_funda'] =  X_train_linear['realised_vol_1y'] / X_train_linear['publication_date_funda']\n",
    "    X_train_linear['realised_vol_1y / implied_vol_3m'] =  X_train_linear['realised_vol_1y'] / X_train_linear['implied_vol_3m']\n",
    "    X_train_linear['realised_vol_1y / earnings_implied_obs'] =  X_train_linear['realised_vol_1y'] / X_train_linear['earnings_implied_obs']\n",
    "    X_train_linear['realised_vol_1y / return_1y'] =  X_train_linear['realised_vol_1y'] / X_train_linear['return_1y']\n",
    "    X_train_linear['realised_vol_1y / delta_vol_1y'] =  X_train_linear['realised_vol_1y'] / X_train_linear['delta_vol_1y']\n",
    "    \n",
    "    X_train_linear['realised_vol_1w / realised_vol_1m'] = X_train_linear['realised_vol_1w'] / X_train_linear['realised_vol_1m']\n",
    "    X_train_linear['realised_vol_1w / publication_date_funda'] =  X_train_linear['realised_vol_1w'] / X_train_linear['publication_date_funda']\n",
    "    X_train_linear['realised_vol_1w / implied_vol_3m'] =  X_train_linear['realised_vol_1w'] / X_train_linear['implied_vol_3m']\n",
    "    X_train_linear['realised_vol_1w / earnings_implied_obs'] =  X_train_linear['realised_vol_1w'] / X_train_linear['earnings_implied_obs']\n",
    "    X_train_linear['realised_vol_1w / return_1m'] =  X_train_linear['realised_vol_1w'] / X_train_linear['return_1m']\n",
    "    X_train_linear['realised_vol_1w / delta_vol_1w'] =  X_train_linear['realised_vol_1w'] / X_train_linear['delta_vol_1w']\n",
    "    \n",
    "    X_train_linear['implied_vol_3m / realised_vol_1m'] = X_train_linear['implied_vol_3m'] / X_train_linear['realised_vol_1m']\n",
    "    X_train_linear['implied_vol_3m / publication_date_funda'] =  X_train_linear['implied_vol_3m'] / X_train_linear['publication_date_funda']\n",
    "    X_train_linear['implied_vol_3m / earnings_implied_obs'] =  X_train_linear['implied_vol_3m'] / X_train_linear['earnings_implied_obs']\n",
    "    X_train_linear['implied_vol_3m / return_1m'] =  X_train_linear['implied_vol_3m'] / X_train_linear['return_1m']\n",
    "    X_train_linear['implied_vol_3m / delta_vol_1w'] =  X_train_linear['implied_vol_3m'] / X_train_linear['delta_vol_1w']\n",
    "    \n",
    "    return X_train_linear"
   ]
  },
  {
   "cell_type": "code",
   "execution_count": 29,
   "metadata": {},
   "outputs": [],
   "source": [
    "X_train_linear = create_new_features(X_train_linear)"
   ]
  },
  {
   "cell_type": "markdown",
   "metadata": {},
   "source": [
    "# **Model Training**"
   ]
  },
  {
   "cell_type": "code",
   "execution_count": 30,
   "metadata": {},
   "outputs": [
    {
     "name": "stdout",
     "output_type": "stream",
     "text": [
      "Training Set :\t (15249, 54)\n"
     ]
    }
   ],
   "source": [
    "print('Training Set :\\t', X_train_linear.shape)"
   ]
  },
  {
   "cell_type": "markdown",
   "metadata": {},
   "source": [
    "## Logistic Regression"
   ]
  },
  {
   "cell_type": "code",
   "execution_count": 31,
   "metadata": {},
   "outputs": [],
   "source": [
    "logit = LogisticRegression(penalty='l1', C=100.0, solver='liblinear',\n",
    "                           class_weight='balanced', random_state=RANDOM_STATE)"
   ]
  },
  {
   "cell_type": "code",
   "execution_count": 32,
   "metadata": {},
   "outputs": [
    {
     "name": "stdout",
     "output_type": "stream",
     "text": [
      "[0.59950043 0.57854357 0.60864165 0.58098937 0.57948289]\n",
      "Wall time: 19.1 s\n"
     ]
    }
   ],
   "source": [
    "%%time\n",
    "lr_scores = cross_val_score(logit, X=X_train_linear, y=y, cv=5,\n",
    "                            verbose=0, scoring='roc_auc')\n",
    "print(lr_scores)"
   ]
  },
  {
   "cell_type": "code",
   "execution_count": 33,
   "metadata": {},
   "outputs": [
    {
     "name": "stdout",
     "output_type": "stream",
     "text": [
      "Mean CV:\t 0.589431583926744\n",
      "StDev CV:\t 0.012322376182326433\n"
     ]
    }
   ],
   "source": [
    "print('Mean CV:\\t', np.mean(lr_scores))\n",
    "print('StDev CV:\\t', np.std(lr_scores))"
   ]
  },
  {
   "cell_type": "code",
   "execution_count": 34,
   "metadata": {},
   "outputs": [],
   "source": [
    "logit.fit(X_train_linear, y);"
   ]
  },
  {
   "cell_type": "markdown",
   "metadata": {},
   "source": [
    "## Random Forests"
   ]
  },
  {
   "cell_type": "code",
   "execution_count": 35,
   "metadata": {},
   "outputs": [],
   "source": [
    "randomForestClassifier = RandomForestClassifier(n_estimators=200,\n",
    "                                                class_weight='balanced',\n",
    "                                                max_depth=6,\n",
    "                                                random_state=RANDOM_STATE)"
   ]
  },
  {
   "cell_type": "code",
   "execution_count": 36,
   "metadata": {},
   "outputs": [
    {
     "name": "stdout",
     "output_type": "stream",
     "text": [
      "[0.58401208 0.59269123 0.60135677 0.57594801 0.58040763]\n",
      "Wall time: 1min 12s\n"
     ]
    }
   ],
   "source": [
    "%%time\n",
    "cv_scores = cross_val_score(randomForestClassifier, X=X_train_linear, y=y,\n",
    "                            cv=5, verbose=0, scoring='roc_auc')\n",
    "print(cv_scores)"
   ]
  },
  {
   "cell_type": "code",
   "execution_count": 37,
   "metadata": {},
   "outputs": [
    {
     "name": "stdout",
     "output_type": "stream",
     "text": [
      "Mean CV:\t 0.586883144860775\n",
      "StDev CV:\t 0.009088145750219639\n"
     ]
    }
   ],
   "source": [
    "print('Mean CV:\\t', np.mean(cv_scores))\n",
    "print('StDev CV:\\t', np.std(cv_scores))"
   ]
  },
  {
   "cell_type": "code",
   "execution_count": 38,
   "metadata": {},
   "outputs": [],
   "source": [
    "randomForestClassifier.fit(X_train_linear, y);"
   ]
  },
  {
   "cell_type": "markdown",
   "metadata": {},
   "source": [
    "## XGBoost"
   ]
  },
  {
   "cell_type": "code",
   "execution_count": 39,
   "metadata": {},
   "outputs": [
    {
     "data": {
      "text/plain": [
       "0    11167\n",
       "1     4082\n",
       "dtype: int64"
      ]
     },
     "execution_count": 39,
     "metadata": {},
     "output_type": "execute_result"
    }
   ],
   "source": [
    "pd.Series(y).value_counts()"
   ]
  },
  {
   "cell_type": "code",
   "execution_count": 40,
   "metadata": {},
   "outputs": [
    {
     "name": "stdout",
     "output_type": "stream",
     "text": [
      "2.7356687898089174\n"
     ]
    }
   ],
   "source": [
    "# Reweight Imbalanced Classes\n",
    "scale_pos = 11167.0 / 4082.0\n",
    "print(scale_pos)\n",
    "scale_pos = 3.0"
   ]
  },
  {
   "cell_type": "code",
   "execution_count": 41,
   "metadata": {},
   "outputs": [
    {
     "name": "stdout",
     "output_type": "stream",
     "text": [
      "[0]\ttrain-auc:0.662996+0.00264565\ttest-auc:0.560693+0.00802167\n",
      "[5]\ttrain-auc:0.687864+0.0103574\ttest-auc:0.569133+0.00567798\n",
      "[10]\ttrain-auc:0.698451+0.011926\ttest-auc:0.574967+0.0079036\n",
      "[15]\ttrain-auc:0.708707+0.0113386\ttest-auc:0.578971+0.0086647\n",
      "[20]\ttrain-auc:0.715314+0.0113372\ttest-auc:0.582235+0.00791142\n",
      "[25]\ttrain-auc:0.721451+0.0122531\ttest-auc:0.584775+0.00806702\n",
      "[30]\ttrain-auc:0.728064+0.0121327\ttest-auc:0.587366+0.00741894\n",
      "[35]\ttrain-auc:0.734327+0.0119387\ttest-auc:0.589114+0.00717195\n",
      "[40]\ttrain-auc:0.740358+0.00988566\ttest-auc:0.590911+0.00716881\n",
      "[45]\ttrain-auc:0.746796+0.00778806\ttest-auc:0.59323+0.00652701\n",
      "[50]\ttrain-auc:0.753038+0.00620372\ttest-auc:0.595174+0.00604056\n",
      "[55]\ttrain-auc:0.758033+0.00687237\ttest-auc:0.596738+0.00639609\n",
      "[60]\ttrain-auc:0.762648+0.00683111\ttest-auc:0.598265+0.00599057\n",
      "[65]\ttrain-auc:0.767044+0.00647244\ttest-auc:0.599415+0.00603064\n",
      "[70]\ttrain-auc:0.77146+0.00583325\ttest-auc:0.601131+0.00551869\n",
      "[75]\ttrain-auc:0.775426+0.00586956\ttest-auc:0.602085+0.00583659\n",
      "[80]\ttrain-auc:0.77957+0.00599381\ttest-auc:0.603056+0.00522808\n",
      "[85]\ttrain-auc:0.783179+0.00578686\ttest-auc:0.604269+0.00477989\n",
      "[90]\ttrain-auc:0.786712+0.00573961\ttest-auc:0.604882+0.00499117\n",
      "[95]\ttrain-auc:0.790505+0.00589284\ttest-auc:0.605722+0.00527734\n",
      "[100]\ttrain-auc:0.793872+0.00567482\ttest-auc:0.606347+0.00552587\n",
      "[105]\ttrain-auc:0.797334+0.00528599\ttest-auc:0.607228+0.00551086\n",
      "[110]\ttrain-auc:0.800763+0.00501791\ttest-auc:0.607951+0.00575211\n",
      "[115]\ttrain-auc:0.804152+0.00484312\ttest-auc:0.608513+0.00593557\n",
      "[120]\ttrain-auc:0.807411+0.00442997\ttest-auc:0.60876+0.00583851\n",
      "[125]\ttrain-auc:0.810648+0.00403177\ttest-auc:0.60919+0.0055172\n",
      "[130]\ttrain-auc:0.814102+0.00470857\ttest-auc:0.609887+0.00551493\n",
      "[135]\ttrain-auc:0.817098+0.00485497\ttest-auc:0.610194+0.00546605\n",
      "[140]\ttrain-auc:0.820005+0.00530536\ttest-auc:0.610908+0.00530362\n",
      "[145]\ttrain-auc:0.82295+0.00551648\ttest-auc:0.611469+0.00522809\n",
      "[150]\ttrain-auc:0.82564+0.00590867\ttest-auc:0.61219+0.00528779\n",
      "[155]\ttrain-auc:0.828561+0.0059067\ttest-auc:0.612719+0.00510643\n",
      "[160]\ttrain-auc:0.831345+0.0059262\ttest-auc:0.613559+0.00505226\n",
      "[165]\ttrain-auc:0.834204+0.0060818\ttest-auc:0.614262+0.00498178\n",
      "[170]\ttrain-auc:0.836838+0.00584506\ttest-auc:0.614798+0.00506891\n",
      "[175]\ttrain-auc:0.839868+0.00562809\ttest-auc:0.615364+0.00495354\n",
      "[180]\ttrain-auc:0.842488+0.00567582\ttest-auc:0.616048+0.00507761\n",
      "[185]\ttrain-auc:0.845081+0.00570067\ttest-auc:0.616585+0.00509807\n",
      "[190]\ttrain-auc:0.847439+0.00560162\ttest-auc:0.616828+0.00488899\n",
      "[195]\ttrain-auc:0.849725+0.00583115\ttest-auc:0.617386+0.0049728\n",
      "[199]\ttrain-auc:0.851672+0.00586753\ttest-auc:0.617757+0.00496511\n",
      "Wall time: 1min 23s\n"
     ]
    }
   ],
   "source": [
    "%%time\n",
    "#nb_classes = len(np.unique(y_resampled))\n",
    "\n",
    "xgb_train = xgb.DMatrix(X_train_linear, label=y)\n",
    "\n",
    "xgb_hyperparameters = {'booster': 'gbtree',\n",
    "                       'tree_method': 'hist',\n",
    "                       'eta': 0.01,\n",
    "                       'colsample_bytree': 1.0,\n",
    "                       'subsample': 1.0,\n",
    "                       'objective': 'binary:logistic',\n",
    "                       'max_depth': 6,\n",
    "                       'alpha': 3.0,\n",
    "                       'lambda': 3.0,\n",
    "                       #'num_class': nb_classes,\n",
    "                       'eval_metric': 'auc',\n",
    "                       'scale_pos_weight': scale_pos,\n",
    "                       'seed': RANDOM_STATE\n",
    "                      }\n",
    "\n",
    "xgb_classifier_cv = xgb.cv(xgb_hyperparameters, xgb_train, nfold=5, maximize=True,\n",
    "                           verbose_eval=5, num_boost_round=200,\n",
    "                           early_stopping_rounds=None)"
   ]
  },
  {
   "cell_type": "code",
   "execution_count": 42,
   "metadata": {},
   "outputs": [],
   "source": [
    "class xgboostClassifier(BaseEstimator, ClassifierMixin):\n",
    "    \"\"\" AAA\n",
    "    \"\"\"\n",
    "    def __init__(self, xgb_params):\n",
    "        \"\"\" AAA \"\"\"\n",
    "        self.xgb_params = xgb_params\n",
    "        \n",
    "    def fit(self, X, y, num_rounds=50, maximize=False):\n",
    "        \"\"\" AAA \"\"\"\n",
    "        xgb_params = self.xgb_params\n",
    "        xgb_train = xgb.DMatrix(X, label=y)\n",
    "        clf = xgb.train(xgb_params, xgb_train, maximize=maximize,\n",
    "                        verbose_eval=0, num_boost_round=num_rounds,\n",
    "                        early_stopping_rounds=None)\n",
    "        self.clf = clf\n",
    "        return self\n",
    "        \n",
    "    def predict(self, X):\n",
    "        \"\"\" AAA \"\"\"\n",
    "        clf = self.clf\n",
    "        xgb_test = xgb.DMatrix(X)\n",
    "        preds = clf.predict(xgb_test)\n",
    "        return preds"
   ]
  },
  {
   "cell_type": "code",
   "execution_count": 43,
   "metadata": {},
   "outputs": [
    {
     "name": "stdout",
     "output_type": "stream",
     "text": [
      "Wall time: 14 s\n"
     ]
    }
   ],
   "source": [
    "%%time\n",
    "nb_xgb_optimal = 200\n",
    "xgb_classifier = xgboostClassifier(xgb_hyperparameters)\n",
    "_ = xgb_classifier.fit(X_train_linear, y, num_rounds=nb_xgb_optimal,\n",
    "                       maximize=False)"
   ]
  },
  {
   "cell_type": "code",
   "execution_count": 44,
   "metadata": {},
   "outputs": [
    {
     "data": {
      "text/plain": [
       "(15249, 54)"
      ]
     },
     "execution_count": 44,
     "metadata": {},
     "output_type": "execute_result"
    }
   ],
   "source": [
    "X_train_linear.shape"
   ]
  },
  {
   "cell_type": "markdown",
   "metadata": {},
   "source": [
    "# **Testing Set Predictions**"
   ]
  },
  {
   "cell_type": "markdown",
   "metadata": {},
   "source": [
    "## Save Models"
   ]
  },
  {
   "cell_type": "code",
   "execution_count": 45,
   "metadata": {},
   "outputs": [],
   "source": [
    "joblib.dump(logit, 'MODEL_logistic_regression.pkl');\n",
    "logit = joblib.load('MODEL_logistic_regression.pkl')"
   ]
  },
  {
   "cell_type": "code",
   "execution_count": 46,
   "metadata": {},
   "outputs": [],
   "source": [
    "joblib.dump(randomForestClassifier, 'MODEL_random_forest.pkl');\n",
    "randomForestClassifier = joblib.load('MODEL_random_forest.pkl')"
   ]
  },
  {
   "cell_type": "code",
   "execution_count": 47,
   "metadata": {},
   "outputs": [],
   "source": [
    "joblib.dump(xgb_classifier, 'MODEL_xgboost.pkl');\n",
    "xgb_classifier = joblib.load('MODEL_xgboost.pkl')"
   ]
  },
  {
   "cell_type": "markdown",
   "metadata": {},
   "source": [
    "## Prepare Test Set"
   ]
  },
  {
   "cell_type": "code",
   "execution_count": 48,
   "metadata": {},
   "outputs": [],
   "source": [
    "test_data_ = test_data.drop(['raw_id'], axis=1)\n",
    "test_data_['exchange'] = test_data_['exchange'].apply(lambda x: 1.0 if x=='US' else 0.0)"
   ]
  },
  {
   "cell_type": "code",
   "execution_count": 49,
   "metadata": {},
   "outputs": [
    {
     "name": "stdout",
     "output_type": "stream",
     "text": [
      "Wall time: 86.7 ms\n"
     ]
    }
   ],
   "source": [
    "%%time\n",
    "#X_test_one_hot = oneHotTransformer.transform(test_data_)\n",
    "X_test_one_hot = targetEncoder.transform(test_data_)"
   ]
  },
  {
   "cell_type": "code",
   "execution_count": 50,
   "metadata": {},
   "outputs": [
    {
     "name": "stdout",
     "output_type": "stream",
     "text": [
      "Wall time: 2.99 ms\n"
     ]
    }
   ],
   "source": [
    "%%time\n",
    "X_test_impute = imputer.transform(X_test_one_hot)"
   ]
  },
  {
   "cell_type": "code",
   "execution_count": 51,
   "metadata": {},
   "outputs": [],
   "source": [
    "X_test_impute = pd.DataFrame(X_test_impute, columns=X_test_one_hot.columns,\n",
    "                             index=X_test_one_hot.index)"
   ]
  },
  {
   "cell_type": "code",
   "execution_count": 52,
   "metadata": {},
   "outputs": [],
   "source": [
    "X_test_impute[numerical_variables] = \\\n",
    "        robustScaler.transform(X_test_impute[numerical_variables])"
   ]
  },
  {
   "cell_type": "code",
   "execution_count": 53,
   "metadata": {},
   "outputs": [],
   "source": [
    "X_test_impute[numerical_variables] = \\\n",
    "        scaler.transform(X_test_impute[numerical_variables])"
   ]
  },
  {
   "cell_type": "code",
   "execution_count": 54,
   "metadata": {},
   "outputs": [],
   "source": [
    "X_test_linear = create_new_features(X_test_impute)"
   ]
  },
  {
   "cell_type": "markdown",
   "metadata": {},
   "source": [
    "## Predictions on Test Set"
   ]
  },
  {
   "cell_type": "code",
   "execution_count": 55,
   "metadata": {},
   "outputs": [
    {
     "data": {
      "text/plain": [
       "(4191, 54)"
      ]
     },
     "execution_count": 55,
     "metadata": {},
     "output_type": "execute_result"
    }
   ],
   "source": [
    "X_test_linear.shape"
   ]
  },
  {
   "cell_type": "code",
   "execution_count": 56,
   "metadata": {},
   "outputs": [],
   "source": [
    "# Logistic Regression\n",
    "y_test_pred_logit = logit.predict_proba(X_test_linear)[:,1]\n",
    "\n",
    "# Random Forests\n",
    "y_test_pred_rf = randomForestClassifier.predict_proba(X_test_linear)[:,1]\n",
    "\n",
    "# XGBoost\n",
    "y_test_pred_xgb = xgb_classifier.predict(X_test_linear)"
   ]
  },
  {
   "cell_type": "code",
   "execution_count": 57,
   "metadata": {},
   "outputs": [],
   "source": [
    "np.savetxt('Submits/model_qmi_41_logit.csv', y_test_pred_logit,\n",
    "           fmt='%1.15f', delimiter='.')"
   ]
  },
  {
   "cell_type": "code",
   "execution_count": 58,
   "metadata": {},
   "outputs": [],
   "source": [
    "np.savetxt('Submits/model_qmi_42_rf.csv', y_test_pred_rf,\n",
    "           fmt='%1.15f', delimiter='.')"
   ]
  },
  {
   "cell_type": "code",
   "execution_count": 59,
   "metadata": {},
   "outputs": [],
   "source": [
    "np.savetxt('Submits/model_qmi_43_xgb.csv', y_test_pred_xgb,\n",
    "           fmt='%1.15f', delimiter='.')"
   ]
  },
  {
   "cell_type": "markdown",
   "metadata": {},
   "source": [
    "## Stacking\n",
    "\n",
    "https://www.kaggle.com/eliotbarr/stacking-test-sklearn-xgboost-catboost-lightgbm"
   ]
  },
  {
   "cell_type": "code",
   "execution_count": 60,
   "metadata": {},
   "outputs": [],
   "source": [
    "def get_oof(clf, x_train, y_train, x_test, NFOLDS, model):\n",
    "    \n",
    "    ntrain = len(x_train)\n",
    "    ntest = len(x_test)\n",
    "    \n",
    "    oof_train = np.zeros((ntrain,))\n",
    "    oof_test = np.zeros((ntest,))\n",
    "    oof_test_skf = np.empty((NFOLDS, ntest))\n",
    "\n",
    "    for i, (train_index, test_index) in enumerate(kf.split(x_train, y_train)):\n",
    "        x_tr = x_train.loc[train_index]\n",
    "        y_tr = y_train.loc[train_index]\n",
    "        x_te = x_train.loc[test_index]\n",
    "        \n",
    "        if model=='xgboost':\n",
    "            clf.fit(x_tr, y_tr, num_rounds=200)\n",
    "            oof_train[test_index] = clf.predict(x_te)\n",
    "            oof_test_skf[i, :] = clf.predict(x_test)\n",
    "        else:\n",
    "            clf.fit(x_tr, y_tr)\n",
    "            oof_train[test_index] = clf.predict_proba(x_te)[:,1]\n",
    "            oof_test_skf[i, :] = clf.predict_proba(x_test)[:,1]            \n",
    "\n",
    "    oof_test[:] = oof_test_skf.mean(axis=0)\n",
    "    return oof_train.reshape(-1, 1), oof_test.reshape(-1, 1)"
   ]
  },
  {
   "cell_type": "code",
   "execution_count": 61,
   "metadata": {},
   "outputs": [],
   "source": [
    "from sklearn.model_selection import StratifiedKFold\n",
    "\n",
    "NFOLDS = 10\n",
    "kf = StratifiedKFold(n_splits = NFOLDS, shuffle=True, random_state=RANDOM_STATE)\n",
    "y_series = pd.Series(y, index=X_train_linear.index)"
   ]
  },
  {
   "cell_type": "code",
   "execution_count": 62,
   "metadata": {},
   "outputs": [
    {
     "name": "stdout",
     "output_type": "stream",
     "text": [
      "Wall time: 24.1 s\n"
     ]
    }
   ],
   "source": [
    "%%time\n",
    "logit_oof_train, logit_oof_test = get_oof(logit, X_train_linear, y_series, X_test_linear, NFOLDS, model=None)"
   ]
  },
  {
   "cell_type": "code",
   "execution_count": 63,
   "metadata": {},
   "outputs": [
    {
     "name": "stdout",
     "output_type": "stream",
     "text": [
      "Wall time: 2min 46s\n"
     ]
    }
   ],
   "source": [
    "%%time\n",
    "rf_oof_train, rf_oof_test = get_oof(randomForestClassifier, X_train_linear, y_series, X_test_linear, NFOLDS, model=None)"
   ]
  },
  {
   "cell_type": "code",
   "execution_count": 64,
   "metadata": {},
   "outputs": [
    {
     "name": "stdout",
     "output_type": "stream",
     "text": [
      "Wall time: 2min 42s\n"
     ]
    }
   ],
   "source": [
    "%%time\n",
    "xgb_oof_train, xgb_oof_test = get_oof(xgb_classifier, X_train_linear, y_series, X_test_linear, NFOLDS, model='xgboost')"
   ]
  },
  {
   "cell_type": "code",
   "execution_count": 65,
   "metadata": {},
   "outputs": [],
   "source": [
    "x_train = np.concatenate((logit_oof_train, rf_oof_train, xgb_oof_train), axis=1)\n",
    "x_test = np.concatenate((logit_oof_test, rf_oof_test, xgb_oof_test), axis=1)"
   ]
  },
  {
   "cell_type": "code",
   "execution_count": 66,
   "metadata": {},
   "outputs": [
    {
     "data": {
      "text/html": [
       "<div>\n",
       "<style scoped>\n",
       "    .dataframe tbody tr th:only-of-type {\n",
       "        vertical-align: middle;\n",
       "    }\n",
       "\n",
       "    .dataframe tbody tr th {\n",
       "        vertical-align: top;\n",
       "    }\n",
       "\n",
       "    .dataframe thead th {\n",
       "        text-align: right;\n",
       "    }\n",
       "</style>\n",
       "<table border=\"1\" class=\"dataframe\">\n",
       "  <thead>\n",
       "    <tr style=\"text-align: right;\">\n",
       "      <th></th>\n",
       "      <th>Logit</th>\n",
       "      <th>Random Forests</th>\n",
       "      <th>XGBoost</th>\n",
       "    </tr>\n",
       "  </thead>\n",
       "  <tbody>\n",
       "    <tr>\n",
       "      <th>Logit</th>\n",
       "      <td>1.000000</td>\n",
       "      <td>0.692920</td>\n",
       "      <td>0.645998</td>\n",
       "    </tr>\n",
       "    <tr>\n",
       "      <th>Random Forests</th>\n",
       "      <td>0.692920</td>\n",
       "      <td>1.000000</td>\n",
       "      <td>0.854835</td>\n",
       "    </tr>\n",
       "    <tr>\n",
       "      <th>XGBoost</th>\n",
       "      <td>0.645998</td>\n",
       "      <td>0.854835</td>\n",
       "      <td>1.000000</td>\n",
       "    </tr>\n",
       "  </tbody>\n",
       "</table>\n",
       "</div>"
      ],
      "text/plain": [
       "                   Logit  Random Forests   XGBoost\n",
       "Logit           1.000000        0.692920  0.645998\n",
       "Random Forests  0.692920        1.000000  0.854835\n",
       "XGBoost         0.645998        0.854835  1.000000"
      ]
     },
     "execution_count": 66,
     "metadata": {},
     "output_type": "execute_result"
    }
   ],
   "source": [
    "pd.DataFrame(x_train, columns=['Logit', 'Random Forests', 'XGBoost']).corr()"
   ]
  },
  {
   "cell_type": "code",
   "execution_count": 67,
   "metadata": {},
   "outputs": [],
   "source": [
    "meta_learner = LogisticRegression()\n",
    "meta_learner.fit(x_train, y_series)\n",
    "y_pred_test_stacked = meta_learner.predict_proba(x_test)[:,1]"
   ]
  },
  {
   "cell_type": "code",
   "execution_count": 68,
   "metadata": {},
   "outputs": [],
   "source": [
    "np.savetxt('Submits/model_qmi_51_logit_cv.csv', logit_oof_test,\n",
    "           fmt='%1.15f', delimiter='.')"
   ]
  },
  {
   "cell_type": "code",
   "execution_count": 69,
   "metadata": {},
   "outputs": [],
   "source": [
    "np.savetxt('Submits/model_qmi_52_rf_cv.csv', rf_oof_test,\n",
    "           fmt='%1.15f', delimiter='.')"
   ]
  },
  {
   "cell_type": "code",
   "execution_count": 70,
   "metadata": {},
   "outputs": [],
   "source": [
    "np.savetxt('Submits/model_qmi_53_xgb_cv.csv', xgb_oof_test,\n",
    "           fmt='%1.15f', delimiter='.')"
   ]
  },
  {
   "cell_type": "code",
   "execution_count": 71,
   "metadata": {},
   "outputs": [],
   "source": [
    "np.savetxt('Submits/model_qmi_54_stacked_cv.csv', y_pred_test_stacked,\n",
    "           fmt='%1.15f', delimiter='.')"
   ]
  },
  {
   "cell_type": "markdown",
   "metadata": {},
   "source": [
    "## SHAP\n",
    "\n",
    "**XGBoost**"
   ]
  },
  {
   "cell_type": "code",
   "execution_count": 72,
   "metadata": {},
   "outputs": [],
   "source": [
    "import shap"
   ]
  },
  {
   "cell_type": "code",
   "execution_count": 73,
   "metadata": {},
   "outputs": [
    {
     "name": "stdout",
     "output_type": "stream",
     "text": [
      "Wall time: 9.57 s\n"
     ]
    }
   ],
   "source": [
    "%%time\n",
    "tree_explainer = shap.TreeExplainer(model=xgb_classifier.clf)\n",
    "tree_shap_values = tree_explainer.shap_values(X_test_linear)"
   ]
  },
  {
   "cell_type": "code",
   "execution_count": 74,
   "metadata": {},
   "outputs": [
    {
     "data": {
      "image/png": "[encoded data removed]",
      "text/plain": [
       "<matplotlib.figure.Figure at 0x1b88114e668>"
      ]
     },
     "metadata": {
      "needs_background": "light"
     },
     "output_type": "display_data"
    }
   ],
   "source": [
    "shap.summary_plot(tree_shap_values, features=X_test_linear,\n",
    "                  feature_names=X_test_linear.columns, plot_type='violin',\n",
    "                  max_display=20)"
   ]
  },
  {
   "cell_type": "code",
   "execution_count": 75,
   "metadata": {},
   "outputs": [
    {
     "data": {
      "image/png": "[encoded data removed]",
      "text/plain": [
       "<matplotlib.figure.Figure at 0x1b8eceb8eb8>"
      ]
     },
     "metadata": {
      "needs_background": "light"
     },
     "output_type": "display_data"
    }
   ],
   "source": [
    "shap.summary_plot(tree_shap_values, features=X_test_linear,\n",
    "                  feature_names=X_test_linear.columns, plot_type='bar',\n",
    "                  max_display=60, color='green')"
   ]
  },
  {
   "cell_type": "markdown",
   "metadata": {},
   "source": [
    "**Stacked Learner**"
   ]
  },
  {
   "cell_type": "code",
   "execution_count": 76,
   "metadata": {},
   "outputs": [
    {
     "name": "stdout",
     "output_type": "stream",
     "text": [
      "Wall time: 615 ms\n"
     ]
    }
   ],
   "source": [
    "%%time\n",
    "linear_explainer = shap.LinearExplainer(model=meta_learner, data=x_test)\n",
    "linear_shap_values = linear_explainer.shap_values(x_test)"
   ]
  },
  {
   "cell_type": "code",
   "execution_count": 77,
   "metadata": {},
   "outputs": [
    {
     "data": {
      "image/png": "[encoded data removed]",
      "text/plain": [
       "<matplotlib.figure.Figure at 0x1b881b77828>"
      ]
     },
     "metadata": {
      "needs_background": "light"
     },
     "output_type": "display_data"
    }
   ],
   "source": [
    "shap.summary_plot(linear_shap_values, features=X_test_linear,\n",
    "                  feature_names=['Logit', 'Random Forests', 'XGBoost'],\n",
    "                  plot_type='violin', max_display=20)"
   ]
  },
  {
   "cell_type": "code",
   "execution_count": 78,
   "metadata": {},
   "outputs": [
    {
     "data": {
      "image/png": "[encoded data removed]",
      "text/plain": [
       "<matplotlib.figure.Figure at 0x1b8eceb8160>"
      ]
     },
     "metadata": {
      "needs_background": "light"
     },
     "output_type": "display_data"
    }
   ],
   "source": [
    "shap.summary_plot(linear_shap_values, features=X_test_linear,\n",
    "                  feature_names=['Logit', 'Random Forests', 'XGBoost'],\n",
    "                  plot_type='bar', max_display=20, color='green')"
   ]
  }
 ],
 "metadata": {
  "kernelspec": {
   "display_name": "Python 3",
   "language": "python",
   "name": "python3"
  },
  "language_info": {
   "codemirror_mode": {
    "name": "ipython",
    "version": 3
   },
   "file_extension": ".py",
   "mimetype": "text/x-python",
   "name": "python",
   "nbconvert_exporter": "python",
   "pygments_lexer": "ipython3",
   "version": "3.6.4"
  },
  "toc-autonumbering": true
 },
 "nbformat": 4,
 "nbformat_minor": 2
}
