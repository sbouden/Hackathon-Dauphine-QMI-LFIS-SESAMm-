{
 "cells": [
  {
   "cell_type": "markdown",
   "metadata": {
    "toc": true
   },
   "source": [
    "<h1>Table of Contents<span class=\"tocSkip\"></span></h1>\n",
    "<div class=\"toc\"><ul class=\"toc-item\"><li><span><a href=\"#Exploratory-Data-Analysis\" data-toc-modified-id=\"Exploratory-Data-Analysis-1\"><span class=\"toc-item-num\">1&nbsp;&nbsp;</span><strong>Exploratory Data Analysis</strong></a></span><ul class=\"toc-item\"><li><span><a href=\"#Missing-Values\" data-toc-modified-id=\"Missing-Values-1.1\"><span class=\"toc-item-num\">1.1&nbsp;&nbsp;</span>Missing Values</a></span></li><li><span><a href=\"#Categorical-&amp;-Numerical-Variables\" data-toc-modified-id=\"Categorical-&amp;-Numerical-Variables-1.2\"><span class=\"toc-item-num\">1.2&nbsp;&nbsp;</span>Categorical &amp; Numerical Variables</a></span></li><li><span><a href=\"#Target-Distribution\" data-toc-modified-id=\"Target-Distribution-1.3\"><span class=\"toc-item-num\">1.3&nbsp;&nbsp;</span>Target Distribution</a></span></li></ul></li><li><span><a href=\"#Feature-Engineering\" data-toc-modified-id=\"Feature-Engineering-2\"><span class=\"toc-item-num\">2&nbsp;&nbsp;</span><strong>Feature Engineering</strong></a></span><ul class=\"toc-item\"><li><span><a href=\"#Categorical-Features\" data-toc-modified-id=\"Categorical-Features-2.1\"><span class=\"toc-item-num\">2.1&nbsp;&nbsp;</span>Categorical Features</a></span></li><li><span><a href=\"#Missing-Values\" data-toc-modified-id=\"Missing-Values-2.2\"><span class=\"toc-item-num\">2.2&nbsp;&nbsp;</span>Missing Values</a></span></li><li><span><a href=\"#Feature-Scaling\" data-toc-modified-id=\"Feature-Scaling-2.3\"><span class=\"toc-item-num\">2.3&nbsp;&nbsp;</span>Feature Scaling</a></span></li><li><span><a href=\"#Feature-Selection\" data-toc-modified-id=\"Feature-Selection-2.4\"><span class=\"toc-item-num\">2.4&nbsp;&nbsp;</span>Feature Selection</a></span></li><li><span><a href=\"#New-Features\" data-toc-modified-id=\"New-Features-2.5\"><span class=\"toc-item-num\">2.5&nbsp;&nbsp;</span>New Features</a></span></li></ul></li><li><span><a href=\"#Model-Training\" data-toc-modified-id=\"Model-Training-3\"><span class=\"toc-item-num\">3&nbsp;&nbsp;</span><strong>Model Training</strong></a></span><ul class=\"toc-item\"><li><span><a href=\"#Logistic-Regression\" data-toc-modified-id=\"Logistic-Regression-3.1\"><span class=\"toc-item-num\">3.1&nbsp;&nbsp;</span>Logistic Regression</a></span></li><li><span><a href=\"#Random-Forests\" data-toc-modified-id=\"Random-Forests-3.2\"><span class=\"toc-item-num\">3.2&nbsp;&nbsp;</span>Random Forests</a></span></li><li><span><a href=\"#XGBoost\" data-toc-modified-id=\"XGBoost-3.3\"><span class=\"toc-item-num\">3.3&nbsp;&nbsp;</span>XGBoost</a></span></li></ul></li><li><span><a href=\"#Testing-Set-Predictions\" data-toc-modified-id=\"Testing-Set-Predictions-4\"><span class=\"toc-item-num\">4&nbsp;&nbsp;</span><strong>Testing Set Predictions</strong></a></span><ul class=\"toc-item\"><li><span><a href=\"#Save-Models\" data-toc-modified-id=\"Save-Models-4.1\"><span class=\"toc-item-num\">4.1&nbsp;&nbsp;</span>Save Models</a></span></li><li><span><a href=\"#Prepare-Validation-Set\" data-toc-modified-id=\"Prepare-Validation-Set-4.2\"><span class=\"toc-item-num\">4.2&nbsp;&nbsp;</span>Prepare Validation Set</a></span></li><li><span><a href=\"#Predictions-on-Test-Set\" data-toc-modified-id=\"Predictions-on-Test-Set-4.3\"><span class=\"toc-item-num\">4.3&nbsp;&nbsp;</span>Predictions on Test Set</a></span></li><li><span><a href=\"#Stacking\" data-toc-modified-id=\"Stacking-4.4\"><span class=\"toc-item-num\">4.4&nbsp;&nbsp;</span>Stacking</a></span></li><li><span><a href=\"#SHAP\" data-toc-modified-id=\"SHAP-4.5\"><span class=\"toc-item-num\">4.5&nbsp;&nbsp;</span>SHAP</a></span></li></ul></li><li><span><a href=\"#Approche-bonus-pour-la-recherche-des-meilleures-hyperparamètres:-Optimization-bayésienne-avec-Hyperopt\" data-toc-modified-id=\"Approche-bonus-pour-la-recherche-des-meilleures-hyperparamètres:-Optimization-bayésienne-avec-Hyperopt-5\"><span class=\"toc-item-num\">5&nbsp;&nbsp;</span><strong>Approche bonus pour la recherche des meilleures hyperparamètres: Optimization bayésienne avec Hyperopt</strong></a></span></li></ul></div>"
   ]
  },
  {
   "cell_type": "markdown",
   "metadata": {},
   "source": [
    "**HACKATHON DAUPHINE / LFIS / SESAMM**\n",
    "\n",
    "***Groupe NERD***\n",
    "\n",
    "**Sonia BOUDEN**\n",
    "\n",
    "**Camille COCHENER**\n",
    "\n",
    "**Sebastien DAVID**"
   ]
  },
  {
   "cell_type": "code",
   "execution_count": 1,
   "metadata": {
    "colab": {},
    "colab_type": "code",
    "id": "XoYziw8H2plx"
   },
   "outputs": [],
   "source": [
    "import numpy as np\n",
    "import matplotlib.pyplot as plt\n",
    "import pandas as pd\n",
    "import seaborn as sns\n",
    "import missingno as mno\n",
    "import warnings\n",
    "warnings.filterwarnings('ignore')\n",
    "plt.style.use('fivethirtyeight')\n",
    "\n",
    "import joblib\n",
    "# import shap\n",
    "import xgboost as xgb\n",
    "import lightgbm as lgb\n",
    "\n",
    "from xgboost import XGBClassifier\n",
    "from lightgbm import LGBMClassifier\n",
    "from sklearn.linear_model import LogisticRegression\n",
    "from sklearn.svm import LinearSVC, SVC\n",
    "from sklearn.ensemble import RandomForestClassifier, ExtraTreesClassifier\n",
    "from sklearn.model_selection import cross_val_score, cross_val_predict, train_test_split, \\\n",
    "                                    StratifiedKFold, RandomizedSearchCV\n",
    "from sklearn.metrics import roc_auc_score, roc_curve, precision_recall_curve, \\\n",
    "                            average_precision_score, recall_score, \\\n",
    "                            precision_score, f1_score, accuracy_score, \\\n",
    "                            mean_squared_error\n",
    "from sklearn.preprocessing import StandardScaler, RobustScaler\n",
    "from sklearn.utils import resample\n",
    "from sklearn.impute import SimpleImputer\n",
    "from sklearn.base import BaseEstimator, TransformerMixin, ClassifierMixin\n",
    "from sklearn.discriminant_analysis import LinearDiscriminantAnalysis\n",
    "from sklearn.kernel_approximation import Nystroem\n",
    "from sklearn.calibration import CalibratedClassifierCV\n",
    "\n",
    "from category_encoders import OneHotEncoder, TargetEncoder, OrdinalEncoder\n",
    "\n",
    "from pprint import pprint\n",
    "\n",
    "RANDOM_STATE = 1805"
   ]
  },
  {
   "cell_type": "code",
   "execution_count": 5,
   "metadata": {
    "colab": {},
    "colab_type": "code",
    "id": "tEtyih3a2pl8"
   },
   "outputs": [],
   "source": [
    "train_data = pd.read_csv('../Data/ref_phase2_train_x.csv')\n",
    "train_labels = pd.read_csv('../Data/ref_phase2_train_y.csv', header=None)\n",
    "test_data = pd.read_csv('../Data/ref_phase2_valid_x.csv')"
   ]
  },
  {
   "cell_type": "code",
   "execution_count": 6,
   "metadata": {
    "colab": {},
    "colab_type": "code",
    "id": "d09pMZ7e2pmC",
    "outputId": "6e736a4e-bed1-462d-b9c2-005a99fc1f40"
   },
   "outputs": [
    {
     "name": "stdout",
     "output_type": "stream",
     "text": [
      "(19440, 26)\n",
      "(19440, 1)\n",
      "(3745, 26)\n"
     ]
    }
   ],
   "source": [
    "print(train_data.shape)\n",
    "print(train_labels.shape)\n",
    "print(test_data.shape)"
   ]
  },
  {
   "cell_type": "markdown",
   "metadata": {
    "colab_type": "text",
    "id": "1jdC22HC2pmN"
   },
   "source": [
    "# **Exploratory Data Analysis**"
   ]
  },
  {
   "cell_type": "code",
   "execution_count": 7,
   "metadata": {
    "colab": {},
    "colab_type": "code",
    "id": "GEta-WRG2pmP"
   },
   "outputs": [],
   "source": [
    "train_data = train_data.drop('raw_id', axis=1)"
   ]
  },
  {
   "cell_type": "markdown",
   "metadata": {
    "colab_type": "text",
    "id": "zAra40i_2pmX"
   },
   "source": [
    "## Missing Values"
   ]
  },
  {
   "cell_type": "code",
   "execution_count": 8,
   "metadata": {
    "colab": {},
    "colab_type": "code",
    "id": "ZNyrFC932pma",
    "outputId": "74170a75-fcaf-4632-95c8-bfddcf874d22"
   },
   "outputs": [
    {
     "data": {
      "text/plain": [
       "sector                    0.000000\n",
       "exchange                  0.000000\n",
       "return_1w                 0.000051\n",
       "return_1m                 0.000051\n",
       "return_1y                 0.000051\n",
       "realised_vol_1y           0.000103\n",
       "realised_vol_1w           0.000154\n",
       "realised_vol_1m           0.000154\n",
       "implied_vol_3m            0.000257\n",
       "delta_vol_1w              0.000514\n",
       "earnings_implied_obs      0.001132\n",
       "publication_date_funda    0.001389\n",
       "net_income                0.001492\n",
       "sales                     0.001543\n",
       "net_debt                  0.001646\n",
       "shareholders_equity       0.001749\n",
       "cash_flow                 0.002109\n",
       "ratio_put_call            0.005813\n",
       "payout_ratio              0.006070\n",
       "score_soc                 0.009568\n",
       "score_env                 0.009568\n",
       "score_gov                 0.009568\n",
       "delta_vol_1y              0.014866\n",
       "ebit                      0.125720\n",
       "ebitda                    0.125926\n",
       "dtype: float64"
      ]
     },
     "execution_count": 8,
     "metadata": {},
     "output_type": "execute_result"
    }
   ],
   "source": [
    "train_data.isnull().sum().sort_values() / len(train_data)"
   ]
  },
  {
   "cell_type": "markdown",
   "metadata": {
    "colab_type": "text",
    "id": "wFGXZHrF2pmi"
   },
   "source": [
    "## Categorical & Numerical Variables"
   ]
  },
  {
   "cell_type": "code",
   "execution_count": 9,
   "metadata": {
    "colab": {},
    "colab_type": "code",
    "id": "Kwkha_OP2pmk",
    "outputId": "9cb3fc1f-01cc-4d3c-c614-291e6e5a929f"
   },
   "outputs": [
    {
     "data": {
      "text/plain": [
       "exchange                      2\n",
       "sector                       20\n",
       "publication_date_funda      419\n",
       "score_soc                  3600\n",
       "score_gov                  4698\n",
       "score_env                  4937\n",
       "payout_ratio               5467\n",
       "earnings_implied_obs      13664\n",
       "ebitda                    15573\n",
       "ebit                      15575\n",
       "delta_vol_1w              16240\n",
       "delta_vol_1y              17241\n",
       "implied_vol_3m            17276\n",
       "ratio_put_call            17818\n",
       "sales                     17855\n",
       "cash_flow                 17859\n",
       "shareholders_equity       17864\n",
       "net_debt                  17866\n",
       "net_income                17869\n",
       "return_1w                 17951\n",
       "return_1y                 17954\n",
       "return_1m                 17957\n",
       "realised_vol_1m           17958\n",
       "realised_vol_1w           17958\n",
       "realised_vol_1y           17959\n",
       "dtype: int64"
      ]
     },
     "execution_count": 9,
     "metadata": {},
     "output_type": "execute_result"
    }
   ],
   "source": [
    "train_data.nunique().sort_values()"
   ]
  },
  {
   "cell_type": "code",
   "execution_count": 10,
   "metadata": {
    "colab": {},
    "colab_type": "code",
    "id": "h6yJExlr2pms"
   },
   "outputs": [],
   "source": [
    "# train_data['publication_date_funda']"
   ]
  },
  {
   "cell_type": "code",
   "execution_count": 11,
   "metadata": {
    "colab": {},
    "colab_type": "code",
    "id": "0aNmiSoO2pm-"
   },
   "outputs": [],
   "source": [
    "categorical_variables = ['sector']\n",
    "categorical_variables_plus = ['sector']\n",
    "numerical_variables = [col for col in train_data.columns if col not in categorical_variables_plus]"
   ]
  },
  {
   "cell_type": "code",
   "execution_count": 12,
   "metadata": {
    "colab": {},
    "colab_type": "code",
    "id": "eAfOSBLA2pnG",
    "outputId": "70ad8e2e-3c73-491b-b675-614defead389"
   },
   "outputs": [
    {
     "name": "stdout",
     "output_type": "stream",
     "text": [
      "24\n",
      "1\n"
     ]
    }
   ],
   "source": [
    "print(len(numerical_variables))\n",
    "print(len(categorical_variables_plus))"
   ]
  },
  {
   "cell_type": "markdown",
   "metadata": {
    "colab_type": "text",
    "id": "rpclhAYv2pnR"
   },
   "source": [
    "## Target Distribution"
   ]
  },
  {
   "cell_type": "code",
   "execution_count": 13,
   "metadata": {
    "colab": {},
    "colab_type": "code",
    "id": "4zbqR3uE2pnT"
   },
   "outputs": [],
   "source": [
    "y = train_labels.values.squeeze()"
   ]
  },
  {
   "cell_type": "code",
   "execution_count": 14,
   "metadata": {
    "colab": {},
    "colab_type": "code",
    "id": "YMIEyM_R2pnY",
    "outputId": "b013dd47-a6c1-4996-85ee-3a98fbd03293"
   },
   "outputs": [
    {
     "data": {
      "text/plain": [
       "0.26779835390946505"
      ]
     },
     "execution_count": 14,
     "metadata": {},
     "output_type": "execute_result"
    }
   ],
   "source": [
    "np.mean(y)"
   ]
  },
  {
   "cell_type": "markdown",
   "metadata": {
    "colab_type": "text",
    "id": "oMYjPR7C2pnh"
   },
   "source": [
    "# **Feature Engineering**"
   ]
  },
  {
   "cell_type": "markdown",
   "metadata": {
    "colab_type": "text",
    "id": "s_bizTxT2pni"
   },
   "source": [
    "## Categorical Features\n",
    "\n",
    "**One-Hot Encoding = Linear Models**"
   ]
  },
  {
   "cell_type": "code",
   "execution_count": 15,
   "metadata": {
    "colab": {},
    "colab_type": "code",
    "id": "RQdZDBJp2pnk"
   },
   "outputs": [],
   "source": [
    "# %%time\n",
    "# train_data_ = train_data.drop('publication_date_funda', axis=1)\n",
    "\n",
    "# oneHotTransformer = OneHotEncoder(cols=categorical_variables)\n",
    "# oneHotTransformer.fit(train_data)\n",
    "\n",
    "# X_train_cat = oneHotTransformer.transform(train_data)\n",
    "# print(X_train_cat.shape)"
   ]
  },
  {
   "cell_type": "code",
   "execution_count": 16,
   "metadata": {
    "colab": {},
    "colab_type": "code",
    "id": "a5rI8knd2pnq"
   },
   "outputs": [],
   "source": [
    "# X_train_cat['exchange'] = X_train_cat['exchange'].apply(lambda x: 1.0 if x=='US' else 0.0)"
   ]
  },
  {
   "cell_type": "markdown",
   "metadata": {
    "colab_type": "text",
    "id": "9OWm-x_w2pnz"
   },
   "source": [
    "**Label Encoding = Random Forests + XGBoost + LightGBM**"
   ]
  },
  {
   "cell_type": "code",
   "execution_count": 17,
   "metadata": {
    "colab": {},
    "colab_type": "code",
    "id": "j5HwqiDG2pn1"
   },
   "outputs": [],
   "source": [
    "# %%time\n",
    "# labelTransformer = OrdinalEncoder(cols=categorical_variables)\n",
    "# labelTransformer.fit(train_data)\n",
    "\n",
    "# X_train_cat_label = labelTransformer.transform(train_data)\n",
    "# print(X_train_cat_label.shape)"
   ]
  },
  {
   "cell_type": "code",
   "execution_count": 18,
   "metadata": {
    "colab": {},
    "colab_type": "code",
    "id": "YStivRPb2pn6"
   },
   "outputs": [],
   "source": [
    "# X_train_cat_label['exchange'] = X_train_cat_label['exchange'].apply(lambda x: 1.0 if x=='US' else 0.0)"
   ]
  },
  {
   "cell_type": "markdown",
   "metadata": {
    "colab_type": "text",
    "id": "s0_EmN0-2poA"
   },
   "source": [
    "**Target Encoding = All Models**\n",
    "\n",
    "https://contrib.scikit-learn.org/categorical-encoding/targetencoder.html"
   ]
  },
  {
   "cell_type": "code",
   "execution_count": 20,
   "metadata": {
    "colab": {},
    "colab_type": "code",
    "id": "JNDoAOs12poG",
    "outputId": "b341af87-12bc-48b3-bb49-c25b0a1e89ef"
   },
   "outputs": [
    {
     "name": "stdout",
     "output_type": "stream",
     "text": [
      "(19440, 25)\n",
      "Wall time: 265 ms\n"
     ]
    }
   ],
   "source": [
    "%%time\n",
    "targetEncoder = TargetEncoder(cols=categorical_variables)\n",
    "targetEncoder.fit(train_data, y)\n",
    "\n",
    "X_train_cat = targetEncoder.transform(train_data)\n",
    "print(X_train_cat.shape)"
   ]
  },
  {
   "cell_type": "code",
   "execution_count": 21,
   "metadata": {
    "colab": {},
    "colab_type": "code",
    "id": "rxhDk2Wu2poM",
    "outputId": "6eaad118-d6c8-4196-9314-d9f88e4ed86c"
   },
   "outputs": [
    {
     "data": {
      "text/html": [
       "<div>\n",
       "<style scoped>\n",
       "    .dataframe tbody tr th:only-of-type {\n",
       "        vertical-align: middle;\n",
       "    }\n",
       "\n",
       "    .dataframe tbody tr th {\n",
       "        vertical-align: top;\n",
       "    }\n",
       "\n",
       "    .dataframe thead th {\n",
       "        text-align: right;\n",
       "    }\n",
       "</style>\n",
       "<table border=\"1\" class=\"dataframe\">\n",
       "  <thead>\n",
       "    <tr style=\"text-align: right;\">\n",
       "      <th></th>\n",
       "      <th>sector</th>\n",
       "    </tr>\n",
       "  </thead>\n",
       "  <tbody>\n",
       "    <tr>\n",
       "      <th>0</th>\n",
       "      <td>0.15204</td>\n",
       "    </tr>\n",
       "    <tr>\n",
       "      <th>1</th>\n",
       "      <td>0.15204</td>\n",
       "    </tr>\n",
       "    <tr>\n",
       "      <th>2</th>\n",
       "      <td>0.15204</td>\n",
       "    </tr>\n",
       "    <tr>\n",
       "      <th>3</th>\n",
       "      <td>0.15204</td>\n",
       "    </tr>\n",
       "    <tr>\n",
       "      <th>4</th>\n",
       "      <td>0.15204</td>\n",
       "    </tr>\n",
       "  </tbody>\n",
       "</table>\n",
       "</div>"
      ],
      "text/plain": [
       "    sector\n",
       "0  0.15204\n",
       "1  0.15204\n",
       "2  0.15204\n",
       "3  0.15204\n",
       "4  0.15204"
      ]
     },
     "execution_count": 21,
     "metadata": {},
     "output_type": "execute_result"
    }
   ],
   "source": [
    "X_train_cat[categorical_variables].head()"
   ]
  },
  {
   "cell_type": "code",
   "execution_count": 22,
   "metadata": {
    "colab": {},
    "colab_type": "code",
    "id": "QEi42h422poV"
   },
   "outputs": [],
   "source": [
    "X_train_cat['exchange'] = X_train_cat['exchange'].apply(lambda x: 1.0 if x=='US' else 0.0)"
   ]
  },
  {
   "cell_type": "markdown",
   "metadata": {
    "colab_type": "text",
    "id": "enZz7juM2poa"
   },
   "source": [
    "## Missing Values"
   ]
  },
  {
   "cell_type": "code",
   "execution_count": 23,
   "metadata": {
    "colab": {},
    "colab_type": "code",
    "id": "6NSGwvS12pod",
    "outputId": "880d13a6-62cf-499a-f4a1-c445a17c79d8"
   },
   "outputs": [
    {
     "data": {
      "text/plain": [
       "(19440, 25)"
      ]
     },
     "execution_count": 23,
     "metadata": {},
     "output_type": "execute_result"
    }
   ],
   "source": [
    "X_train_cat.shape"
   ]
  },
  {
   "cell_type": "code",
   "execution_count": 24,
   "metadata": {
    "colab": {},
    "colab_type": "code",
    "id": "SmKH2Acz2poj"
   },
   "outputs": [],
   "source": [
    "imputer = SimpleImputer(strategy='median')\n",
    "X_train_linear = imputer.fit_transform(X_train_cat)\n",
    "X_train_linear = pd.DataFrame(X_train_linear, columns=X_train_cat.columns,\n",
    "                              index=X_train_cat.index)"
   ]
  },
  {
   "cell_type": "code",
   "execution_count": 25,
   "metadata": {
    "colab": {},
    "colab_type": "code",
    "id": "t1Q5XIB42pon",
    "outputId": "06140600-8ad7-4c23-8a33-779b8fae4659"
   },
   "outputs": [
    {
     "data": {
      "text/plain": [
       "0"
      ]
     },
     "execution_count": 25,
     "metadata": {},
     "output_type": "execute_result"
    }
   ],
   "source": [
    "X_train_linear.isnull().sum().sum()"
   ]
  },
  {
   "cell_type": "markdown",
   "metadata": {
    "colab_type": "text",
    "id": "BSu4iKLV2pot"
   },
   "source": [
    "## Feature Scaling"
   ]
  },
  {
   "cell_type": "code",
   "execution_count": 26,
   "metadata": {
    "colab": {},
    "colab_type": "code",
    "id": "qiiZ45xP2pov"
   },
   "outputs": [],
   "source": [
    "robustScaler = RobustScaler()\n",
    "X_train_linear[numerical_variables] = \\\n",
    "            robustScaler.fit_transform(X_train_linear[numerical_variables])"
   ]
  },
  {
   "cell_type": "code",
   "execution_count": 27,
   "metadata": {
    "colab": {},
    "colab_type": "code",
    "id": "J3scwYfN2po0"
   },
   "outputs": [],
   "source": [
    "scaler = StandardScaler()\n",
    "X_train_linear[numerical_variables] = \\\n",
    "            scaler.fit_transform(X_train_linear[numerical_variables])"
   ]
  },
  {
   "cell_type": "markdown",
   "metadata": {
    "colab_type": "text",
    "id": "16Cu-HKt2po5"
   },
   "source": [
    "## Feature Selection"
   ]
  },
  {
   "cell_type": "code",
   "execution_count": 28,
   "metadata": {
    "colab": {},
    "colab_type": "code",
    "id": "z1Q6XW9A2po6"
   },
   "outputs": [],
   "source": [
    "df = X_train_linear.copy()\n",
    "df['target'] = y"
   ]
  },
  {
   "cell_type": "code",
   "execution_count": 29,
   "metadata": {
    "colab": {},
    "colab_type": "code",
    "id": "Movw3P3V2ppA"
   },
   "outputs": [],
   "source": [
    "label_correlation = df.corr()"
   ]
  },
  {
   "cell_type": "code",
   "execution_count": 30,
   "metadata": {
    "colab": {},
    "colab_type": "code",
    "id": "d4DGhe7O2ppF",
    "outputId": "ec584301-22b6-4c7e-92a3-a344b0e705a0"
   },
   "outputs": [
    {
     "data": {
      "text/plain": [
       "target                    1.000000\n",
       "sector                    0.105614\n",
       "realised_vol_1y           0.037391\n",
       "publication_date_funda    0.022695\n",
       "sales                     0.021252\n",
       "implied_vol_3m            0.018780\n",
       "ratio_put_call            0.016966\n",
       "return_1w                 0.009534\n",
       "ebitda                    0.008982\n",
       "score_soc                 0.008699\n",
       "score_gov                 0.007578\n",
       "score_env                 0.006484\n",
       "realised_vol_1m           0.006199\n",
       "ebit                      0.004839\n",
       "realised_vol_1w           0.001824\n",
       "net_debt                 -0.001275\n",
       "cash_flow                -0.002984\n",
       "delta_vol_1y             -0.005813\n",
       "payout_ratio             -0.006326\n",
       "net_income               -0.007415\n",
       "shareholders_equity      -0.011442\n",
       "return_1m                -0.017491\n",
       "delta_vol_1w             -0.019270\n",
       "return_1y                -0.020789\n",
       "exchange                 -0.020977\n",
       "earnings_implied_obs     -0.030454\n",
       "Name: target, dtype: float64"
      ]
     },
     "execution_count": 30,
     "metadata": {},
     "output_type": "execute_result"
    }
   ],
   "source": [
    "label_correlation['target'].sort_values(ascending=False)"
   ]
  },
  {
   "cell_type": "markdown",
   "metadata": {
    "colab_type": "text",
    "id": "OtH1F-Kg2ppK"
   },
   "source": [
    "## New Features"
   ]
  },
  {
   "cell_type": "code",
   "execution_count": 31,
   "metadata": {
    "colab": {},
    "colab_type": "code",
    "id": "K4MJMoeK2ppM"
   },
   "outputs": [],
   "source": [
    "def create_new_features(X_train_linear):\n",
    "    X_train_linear['ebitda / net_debt'] = X_train_linear['ebitda'] / X_train_linear['ebitda']\n",
    "    X_train_linear['ebitda / cash_flow'] = X_train_linear['ebitda'] / X_train_linear['cash_flow']\n",
    "    X_train_linear['ebitda / net_income'] = X_train_linear['ebitda'] / X_train_linear['net_income']\n",
    "    X_train_linear['ebitda / payout_ratio'] = X_train_linear['ebitda'] / X_train_linear['payout_ratio']\n",
    "    X_train_linear['ebitda / earnings_implied_obs'] = X_train_linear['ebitda'] / X_train_linear['earnings_implied_obs']\n",
    "\n",
    "    X_train_linear['ebit / net_debt'] = X_train_linear['ebit'] / X_train_linear['net_debt']\n",
    "    X_train_linear['ebit / cash_flow'] = X_train_linear['ebit'] / X_train_linear['cash_flow']\n",
    "    X_train_linear['ebit / net_income'] = X_train_linear['ebit'] / X_train_linear['net_income']\n",
    "    X_train_linear['ebit / payout_ratio'] = X_train_linear['ebit'] / X_train_linear['payout_ratio']\n",
    "    X_train_linear['ebit / earnings_implied_obs'] = X_train_linear['ebit'] / X_train_linear['earnings_implied_obs']\n",
    "\n",
    "    X_train_linear['earnings_implied_obs / net_debt'] = X_train_linear['earnings_implied_obs'] / X_train_linear['net_debt']\n",
    "    X_train_linear['earnings_implied_obs / cash_flow'] =  X_train_linear['earnings_implied_obs'] / X_train_linear['cash_flow']\n",
    "    X_train_linear['earnings_implied_obs / net_income'] =  X_train_linear['earnings_implied_obs'] / X_train_linear['net_income']\n",
    "    X_train_linear['earnings_implied_obs / payout_ratio'] =  X_train_linear['earnings_implied_obs'] / X_train_linear['payout_ratio']\n",
    "    \n",
    "    X_train_linear['realised_vol_1y / realised_vol_1m'] = X_train_linear['realised_vol_1y'] / X_train_linear['realised_vol_1m']\n",
    "    X_train_linear['realised_vol_1y / realised_vol_1w'] = X_train_linear['realised_vol_1y'] / X_train_linear['realised_vol_1w']\n",
    "    X_train_linear['realised_vol_1y / publication_date_funda'] =  X_train_linear['realised_vol_1y'] / X_train_linear['publication_date_funda']\n",
    "    X_train_linear['realised_vol_1y / implied_vol_3m'] =  X_train_linear['realised_vol_1y'] / X_train_linear['implied_vol_3m']\n",
    "    X_train_linear['realised_vol_1y / earnings_implied_obs'] =  X_train_linear['realised_vol_1y'] / X_train_linear['earnings_implied_obs']\n",
    "    X_train_linear['realised_vol_1y / return_1y'] =  X_train_linear['realised_vol_1y'] / X_train_linear['return_1y']\n",
    "    X_train_linear['realised_vol_1y / delta_vol_1y'] =  X_train_linear['realised_vol_1y'] / X_train_linear['delta_vol_1y']\n",
    "    \n",
    "    X_train_linear['realised_vol_1w / realised_vol_1m'] = X_train_linear['realised_vol_1w'] / X_train_linear['realised_vol_1m']\n",
    "    X_train_linear['realised_vol_1w / publication_date_funda'] =  X_train_linear['realised_vol_1w'] / X_train_linear['publication_date_funda']\n",
    "    X_train_linear['realised_vol_1w / implied_vol_3m'] =  X_train_linear['realised_vol_1w'] / X_train_linear['implied_vol_3m']\n",
    "    X_train_linear['realised_vol_1w / earnings_implied_obs'] =  X_train_linear['realised_vol_1w'] / X_train_linear['earnings_implied_obs']\n",
    "    X_train_linear['realised_vol_1w / return_1m'] =  X_train_linear['realised_vol_1w'] / X_train_linear['return_1m']\n",
    "    X_train_linear['realised_vol_1w / delta_vol_1w'] =  X_train_linear['realised_vol_1w'] / X_train_linear['delta_vol_1w']\n",
    "    \n",
    "    X_train_linear['implied_vol_3m / realised_vol_1m'] = X_train_linear['implied_vol_3m'] / X_train_linear['realised_vol_1m']\n",
    "    X_train_linear['implied_vol_3m / publication_date_funda'] =  X_train_linear['implied_vol_3m'] / X_train_linear['publication_date_funda']\n",
    "    X_train_linear['implied_vol_3m / earnings_implied_obs'] =  X_train_linear['implied_vol_3m'] / X_train_linear['earnings_implied_obs']\n",
    "    X_train_linear['implied_vol_3m / return_1m'] =  X_train_linear['implied_vol_3m'] / X_train_linear['return_1m']\n",
    "    X_train_linear['implied_vol_3m / delta_vol_1w'] =  X_train_linear['implied_vol_3m'] / X_train_linear['delta_vol_1w']\n",
    "    \n",
    "    return X_train_linear"
   ]
  },
  {
   "cell_type": "code",
   "execution_count": 32,
   "metadata": {
    "colab": {},
    "colab_type": "code",
    "id": "D6yp1Y7O2ppU"
   },
   "outputs": [],
   "source": [
    "X_train_linear = create_new_features(X_train_linear)"
   ]
  },
  {
   "cell_type": "markdown",
   "metadata": {
    "colab_type": "text",
    "id": "XxqjPISt2ppY"
   },
   "source": [
    "# **Model Training**"
   ]
  },
  {
   "cell_type": "code",
   "execution_count": 33,
   "metadata": {
    "colab": {},
    "colab_type": "code",
    "id": "-NFHkrkR2ppZ",
    "outputId": "1aa1d026-3107-4c8c-945b-4ee415251cf5"
   },
   "outputs": [
    {
     "name": "stdout",
     "output_type": "stream",
     "text": [
      "Training Set :\t (19440, 57)\n"
     ]
    }
   ],
   "source": [
    "print('Training Set :\\t', X_train_linear.shape)"
   ]
  },
  {
   "cell_type": "markdown",
   "metadata": {
    "colab_type": "text",
    "id": "uuL2qlmf2ppe"
   },
   "source": [
    "## Logistic Regression"
   ]
  },
  {
   "cell_type": "code",
   "execution_count": 34,
   "metadata": {
    "colab": {},
    "colab_type": "code",
    "id": "BPNu_LAl2ppg"
   },
   "outputs": [],
   "source": [
    "logit = LogisticRegression(penalty='l1', C=100.0, solver='liblinear',\n",
    "                           class_weight='balanced', random_state=RANDOM_STATE)"
   ]
  },
  {
   "cell_type": "code",
   "execution_count": 35,
   "metadata": {
    "colab": {},
    "colab_type": "code",
    "id": "sejkwLln2ppl",
    "outputId": "47a8f621-2a23-4a14-d4fb-d69db815b5a3"
   },
   "outputs": [
    {
     "name": "stdout",
     "output_type": "stream",
     "text": [
      "[0.59515792 0.57703999 0.59708738 0.57746918 0.5883931 ]\n",
      "Wall time: 11.5 s\n"
     ]
    }
   ],
   "source": [
    "%%time\n",
    "lr_scores = cross_val_score(logit, X=X_train_linear, y=y, cv=5,\n",
    "                            verbose=0, scoring='roc_auc')\n",
    "print(lr_scores)"
   ]
  },
  {
   "cell_type": "code",
   "execution_count": 36,
   "metadata": {
    "colab": {},
    "colab_type": "code",
    "id": "nCG8g4qu2ppp",
    "outputId": "e8be96ff-4d13-4dc4-d53f-194d936e8898"
   },
   "outputs": [
    {
     "name": "stdout",
     "output_type": "stream",
     "text": [
      "Mean CV:\t 0.5870295140294511\n",
      "StDev CV:\t 0.00848859937719809\n"
     ]
    }
   ],
   "source": [
    "print('Mean CV:\\t', np.mean(lr_scores))\n",
    "print('StDev CV:\\t', np.std(lr_scores))"
   ]
  },
  {
   "cell_type": "code",
   "execution_count": 37,
   "metadata": {
    "colab": {},
    "colab_type": "code",
    "id": "Rkj3CD9U2ppv"
   },
   "outputs": [],
   "source": [
    "logit.fit(X_train_linear, y);"
   ]
  },
  {
   "cell_type": "markdown",
   "metadata": {
    "colab_type": "text",
    "id": "_1eYQvfl2pp0"
   },
   "source": [
    "## Random Forests"
   ]
  },
  {
   "cell_type": "code",
   "execution_count": 38,
   "metadata": {
    "colab": {},
    "colab_type": "code",
    "id": "IfO3z9lb2pp2"
   },
   "outputs": [],
   "source": [
    "randomForestClassifier = RandomForestClassifier(n_estimators=200,\n",
    "                                                class_weight='balanced',\n",
    "                                                max_depth=6,\n",
    "                                                random_state=RANDOM_STATE)"
   ]
  },
  {
   "cell_type": "code",
   "execution_count": 39,
   "metadata": {
    "colab": {},
    "colab_type": "code",
    "id": "-uzGLyEV2pp6",
    "outputId": "24c58104-a09a-4d18-bbaa-cb8ec98e6925"
   },
   "outputs": [
    {
     "name": "stdout",
     "output_type": "stream",
     "text": [
      "[0.5931492  0.59175693 0.5930806  0.58128633 0.5830223 ]\n",
      "Wall time: 1min 39s\n"
     ]
    }
   ],
   "source": [
    "%%time\n",
    "cv_scores = cross_val_score(randomForestClassifier, X=X_train_linear, y=y,\n",
    "                            cv=5, verbose=0, scoring='roc_auc')\n",
    "print(cv_scores)"
   ]
  },
  {
   "cell_type": "code",
   "execution_count": 40,
   "metadata": {
    "colab": {},
    "colab_type": "code",
    "id": "IXogUE2w2pqE",
    "outputId": "3543dcb6-03f4-43b5-c3da-751ee0e454ab"
   },
   "outputs": [
    {
     "name": "stdout",
     "output_type": "stream",
     "text": [
      "Mean CV:\t 0.588459074026378\n",
      "StDev CV:\t 0.0052007395714369796\n"
     ]
    }
   ],
   "source": [
    "print('Mean CV:\\t', np.mean(cv_scores))\n",
    "print('StDev CV:\\t', np.std(cv_scores))"
   ]
  },
  {
   "cell_type": "code",
   "execution_count": 41,
   "metadata": {
    "colab": {},
    "colab_type": "code",
    "id": "A4YKw0222pqM"
   },
   "outputs": [],
   "source": [
    "randomForestClassifier.fit(X_train_linear, y);"
   ]
  },
  {
   "cell_type": "markdown",
   "metadata": {
    "colab_type": "text",
    "id": "hgyk0Drj2pqT"
   },
   "source": [
    "## XGBoost"
   ]
  },
  {
   "cell_type": "code",
   "execution_count": 42,
   "metadata": {
    "colab": {},
    "colab_type": "code",
    "id": "0myjqSR72pqd",
    "outputId": "0c5fcba0-58c7-4d2b-f89e-46cd60169097"
   },
   "outputs": [
    {
     "data": {
      "text/plain": [
       "0    14234\n",
       "1     5206\n",
       "dtype: int64"
      ]
     },
     "execution_count": 42,
     "metadata": {},
     "output_type": "execute_result"
    }
   ],
   "source": [
    "pd.Series(y).value_counts()"
   ]
  },
  {
   "cell_type": "code",
   "execution_count": 43,
   "metadata": {
    "colab": {},
    "colab_type": "code",
    "id": "wHQ2OO9G2pqi",
    "outputId": "7ce33e95-0bfa-4637-bf02-b80070c28a08"
   },
   "outputs": [
    {
     "name": "stdout",
     "output_type": "stream",
     "text": [
      "2.7356687898089174\n"
     ]
    }
   ],
   "source": [
    "# Reweight Imbalanced Classes\n",
    "scale_pos = 11167.0 / 4082.0\n",
    "print(scale_pos)\n",
    "scale_pos = 3.0"
   ]
  },
  {
   "cell_type": "code",
   "execution_count": 44,
   "metadata": {
    "colab": {},
    "colab_type": "code",
    "id": "IJJAdPlL2pqs",
    "outputId": "b250965f-1e51-49f7-f73c-cf9ae25456c0"
   },
   "outputs": [
    {
     "name": "stdout",
     "output_type": "stream",
     "text": [
      "[0]\ttrain-auc:0.648195+0.00391896\ttest-auc:0.566783+0.011358\n",
      "[5]\ttrain-auc:0.673208+0.010186\ttest-auc:0.577884+0.00577178\n",
      "[10]\ttrain-auc:0.68585+0.00662616\ttest-auc:0.58382+0.00675024\n",
      "[15]\ttrain-auc:0.695019+0.00477055\ttest-auc:0.585975+0.00713933\n",
      "[20]\ttrain-auc:0.702835+0.00227729\ttest-auc:0.588196+0.00867063\n",
      "[25]\ttrain-auc:0.709909+0.00317893\ttest-auc:0.589822+0.0104643\n",
      "[30]\ttrain-auc:0.71812+0.00319146\ttest-auc:0.591053+0.0110482\n",
      "[35]\ttrain-auc:0.72524+0.00380688\ttest-auc:0.592445+0.012114\n",
      "[40]\ttrain-auc:0.731093+0.00405255\ttest-auc:0.594154+0.0122368\n",
      "[45]\ttrain-auc:0.735507+0.00386254\ttest-auc:0.59577+0.0125742\n",
      "[50]\ttrain-auc:0.740215+0.00318607\ttest-auc:0.597032+0.0120973\n",
      "[55]\ttrain-auc:0.744845+0.00270745\ttest-auc:0.598563+0.0120381\n",
      "[60]\ttrain-auc:0.74918+0.00242232\ttest-auc:0.599956+0.0118601\n",
      "[65]\ttrain-auc:0.753197+0.00269842\ttest-auc:0.601191+0.011796\n",
      "[70]\ttrain-auc:0.757273+0.00249095\ttest-auc:0.602135+0.0119935\n",
      "[75]\ttrain-auc:0.761005+0.00249285\ttest-auc:0.602991+0.0118965\n",
      "[80]\ttrain-auc:0.764635+0.00271424\ttest-auc:0.604241+0.0114708\n",
      "[85]\ttrain-auc:0.767889+0.00316636\ttest-auc:0.605094+0.0116343\n",
      "[90]\ttrain-auc:0.771088+0.00326824\ttest-auc:0.605975+0.0115347\n",
      "[95]\ttrain-auc:0.774507+0.00326626\ttest-auc:0.607076+0.0117476\n",
      "[100]\ttrain-auc:0.777262+0.00328209\ttest-auc:0.607709+0.0117255\n",
      "[105]\ttrain-auc:0.780125+0.00325735\ttest-auc:0.608568+0.0117439\n",
      "[110]\ttrain-auc:0.782858+0.00309508\ttest-auc:0.608937+0.0115945\n",
      "[115]\ttrain-auc:0.785559+0.0026875\ttest-auc:0.609554+0.011768\n",
      "[120]\ttrain-auc:0.788111+0.00269978\ttest-auc:0.610067+0.0116714\n",
      "[125]\ttrain-auc:0.790832+0.00243075\ttest-auc:0.610554+0.0115304\n",
      "[130]\ttrain-auc:0.793455+0.00231121\ttest-auc:0.610991+0.0112092\n",
      "[135]\ttrain-auc:0.796315+0.00218735\ttest-auc:0.611584+0.0111658\n",
      "[140]\ttrain-auc:0.798848+0.00198712\ttest-auc:0.612012+0.0109723\n",
      "[145]\ttrain-auc:0.801218+0.00170954\ttest-auc:0.612374+0.0111094\n",
      "[150]\ttrain-auc:0.803517+0.00150173\ttest-auc:0.612679+0.010793\n",
      "[155]\ttrain-auc:0.805992+0.00139942\ttest-auc:0.613128+0.0105749\n",
      "[160]\ttrain-auc:0.808503+0.00125737\ttest-auc:0.61344+0.0104879\n",
      "[165]\ttrain-auc:0.811293+0.000990158\ttest-auc:0.613867+0.0103524\n",
      "[170]\ttrain-auc:0.814148+0.000680211\ttest-auc:0.614315+0.00996897\n",
      "[175]\ttrain-auc:0.816892+0.000751133\ttest-auc:0.614489+0.0100546\n",
      "[180]\ttrain-auc:0.819585+0.000969175\ttest-auc:0.614862+0.0096951\n",
      "[185]\ttrain-auc:0.821815+0.00114145\ttest-auc:0.615388+0.00989017\n",
      "[190]\ttrain-auc:0.824226+0.00143125\ttest-auc:0.615664+0.00973596\n",
      "[195]\ttrain-auc:0.826496+0.00154434\ttest-auc:0.615872+0.0095524\n",
      "[199]\ttrain-auc:0.828291+0.00185541\ttest-auc:0.616204+0.00946843\n",
      "Wall time: 1min 30s\n"
     ]
    }
   ],
   "source": [
    "%%time\n",
    "#nb_classes = len(np.unique(y_resampled))\n",
    "\n",
    "xgb_train = xgb.DMatrix(X_train_linear, label=y)\n",
    "\n",
    "xgb_hyperparameters = {'booster': 'gbtree',\n",
    "                       'tree_method': 'hist',\n",
    "                       'eta': 0.01,\n",
    "                       'colsample_bytree': 1.0,\n",
    "                       'subsample': 1.0,\n",
    "                       'objective': 'binary:logistic',\n",
    "                       'max_depth': 6,\n",
    "                       'alpha': 3.0,\n",
    "                       'lambda': 3.0,\n",
    "                       #'num_class': nb_classes,\n",
    "                       'eval_metric': 'auc',\n",
    "                       'scale_pos_weight': scale_pos,\n",
    "                       'seed': RANDOM_STATE\n",
    "                      }\n",
    "\n",
    "xgb_classifier_cv = xgb.cv(xgb_hyperparameters, xgb_train, nfold=5, maximize=True,\n",
    "                           verbose_eval=5, num_boost_round=200,\n",
    "                           early_stopping_rounds=None)"
   ]
  },
  {
   "cell_type": "code",
   "execution_count": 45,
   "metadata": {
    "colab": {},
    "colab_type": "code",
    "id": "Fzlr2zRz2pqy"
   },
   "outputs": [],
   "source": [
    "class xgboostClassifier(BaseEstimator, ClassifierMixin):\n",
    "    \"\"\" AAA\n",
    "    \"\"\"\n",
    "    def __init__(self, xgb_params):\n",
    "        \"\"\" AAA \"\"\"\n",
    "        self.xgb_params = xgb_params\n",
    "        \n",
    "    def fit(self, X, y, num_rounds=50, maximize=False):\n",
    "        \"\"\" AAA \"\"\"\n",
    "        xgb_params = self.xgb_params\n",
    "        xgb_train = xgb.DMatrix(X, label=y)\n",
    "        clf = xgb.train(xgb_params, xgb_train, maximize=maximize,\n",
    "                        verbose_eval=0, num_boost_round=num_rounds,\n",
    "                        early_stopping_rounds=None)\n",
    "        self.clf = clf\n",
    "        return self\n",
    "        \n",
    "    def predict(self, X):\n",
    "        \"\"\" AAA \"\"\"\n",
    "        clf = self.clf\n",
    "        xgb_test = xgb.DMatrix(X)\n",
    "        preds = clf.predict(xgb_test)\n",
    "        return preds"
   ]
  },
  {
   "cell_type": "code",
   "execution_count": 46,
   "metadata": {
    "colab": {},
    "colab_type": "code",
    "id": "6XHBWXuu2pq8",
    "outputId": "5b896971-47b8-436f-f5a3-e88580ed1c3d"
   },
   "outputs": [
    {
     "name": "stdout",
     "output_type": "stream",
     "text": [
      "Wall time: 17.5 s\n"
     ]
    }
   ],
   "source": [
    "%%time\n",
    "nb_xgb_optimal = 200\n",
    "xgb_classifier = xgboostClassifier(xgb_hyperparameters)\n",
    "_ = xgb_classifier.fit(X_train_linear, y, num_rounds=nb_xgb_optimal,\n",
    "                       maximize=False)"
   ]
  },
  {
   "cell_type": "code",
   "execution_count": 47,
   "metadata": {
    "colab": {},
    "colab_type": "code",
    "id": "O1OHlkVi2prA",
    "outputId": "34b4a5c2-8320-4936-9af4-9f1ade945ccc"
   },
   "outputs": [
    {
     "data": {
      "text/plain": [
       "(19440, 57)"
      ]
     },
     "execution_count": 47,
     "metadata": {},
     "output_type": "execute_result"
    }
   ],
   "source": [
    "X_train_linear.shape"
   ]
  },
  {
   "cell_type": "markdown",
   "metadata": {
    "colab_type": "text",
    "id": "2jBkkxX82prH"
   },
   "source": [
    "# **Testing Set Predictions**"
   ]
  },
  {
   "cell_type": "markdown",
   "metadata": {
    "colab_type": "text",
    "id": "HQL5SMJ52prJ"
   },
   "source": [
    "## Save Models"
   ]
  },
  {
   "cell_type": "code",
   "execution_count": 48,
   "metadata": {
    "colab": {},
    "colab_type": "code",
    "id": "u3XbBojP2prK"
   },
   "outputs": [],
   "source": [
    "joblib.dump(logit, 'MODEL_logistic_regression.pkl');\n",
    "logit = joblib.load('MODEL_logistic_regression.pkl')"
   ]
  },
  {
   "cell_type": "code",
   "execution_count": 49,
   "metadata": {
    "colab": {},
    "colab_type": "code",
    "id": "-nrGx-iT2prO"
   },
   "outputs": [],
   "source": [
    "joblib.dump(randomForestClassifier, 'MODEL_random_forest.pkl');\n",
    "randomForestClassifier = joblib.load('MODEL_random_forest.pkl')"
   ]
  },
  {
   "cell_type": "code",
   "execution_count": 50,
   "metadata": {
    "colab": {},
    "colab_type": "code",
    "id": "88zfxW5D2prT"
   },
   "outputs": [],
   "source": [
    "joblib.dump(xgb_classifier, 'MODEL_xgboost.pkl');\n",
    "xgb_classifier = joblib.load('MODEL_xgboost.pkl')"
   ]
  },
  {
   "cell_type": "markdown",
   "metadata": {
    "colab_type": "text",
    "id": "ylLhRrjP2prZ"
   },
   "source": [
    "## Prepare Validation Set"
   ]
  },
  {
   "cell_type": "code",
   "execution_count": 51,
   "metadata": {
    "colab": {},
    "colab_type": "code",
    "id": "fklhC4ub2pra"
   },
   "outputs": [],
   "source": [
    "test_data_ = test_data.drop(['raw_id'], axis=1)\n",
    "test_data_['exchange'] = test_data_['exchange'].apply(lambda x: 1.0 if x=='US' else 0.0)"
   ]
  },
  {
   "cell_type": "code",
   "execution_count": 52,
   "metadata": {
    "colab": {},
    "colab_type": "code",
    "id": "MOa98Fvv2prd",
    "outputId": "d1faca3d-dfae-4ab4-9eec-91d46f4e1998"
   },
   "outputs": [
    {
     "name": "stdout",
     "output_type": "stream",
     "text": [
      "Wall time: 93.8 ms\n"
     ]
    }
   ],
   "source": [
    "%%time\n",
    "#X_test_one_hot = oneHotTransformer.transform(test_data_)\n",
    "X_test_one_hot = targetEncoder.transform(test_data_)"
   ]
  },
  {
   "cell_type": "code",
   "execution_count": 53,
   "metadata": {
    "colab": {},
    "colab_type": "code",
    "id": "W6eTSTB32prg",
    "outputId": "39b0a898-04a3-4579-a554-8d18d3709718"
   },
   "outputs": [
    {
     "name": "stdout",
     "output_type": "stream",
     "text": [
      "Wall time: 2.98 ms\n"
     ]
    }
   ],
   "source": [
    "%%time\n",
    "X_test_impute = imputer.transform(X_test_one_hot)"
   ]
  },
  {
   "cell_type": "code",
   "execution_count": 54,
   "metadata": {
    "colab": {},
    "colab_type": "code",
    "id": "FoF2fhTD2prm"
   },
   "outputs": [],
   "source": [
    "X_test_impute = pd.DataFrame(X_test_impute, columns=X_test_one_hot.columns,\n",
    "                             index=X_test_one_hot.index)"
   ]
  },
  {
   "cell_type": "code",
   "execution_count": 55,
   "metadata": {
    "colab": {},
    "colab_type": "code",
    "id": "ftYJA5TC2prr"
   },
   "outputs": [],
   "source": [
    "X_test_impute[numerical_variables] = \\\n",
    "        robustScaler.transform(X_test_impute[numerical_variables])"
   ]
  },
  {
   "cell_type": "code",
   "execution_count": 56,
   "metadata": {
    "colab": {},
    "colab_type": "code",
    "id": "EaBp8Q1h2pru"
   },
   "outputs": [],
   "source": [
    "X_test_impute[numerical_variables] = \\\n",
    "        scaler.transform(X_test_impute[numerical_variables])"
   ]
  },
  {
   "cell_type": "code",
   "execution_count": 57,
   "metadata": {
    "colab": {},
    "colab_type": "code",
    "id": "31BIiEPY2prx"
   },
   "outputs": [],
   "source": [
    "X_test_linear = create_new_features(X_test_impute)"
   ]
  },
  {
   "cell_type": "markdown",
   "metadata": {
    "colab_type": "text",
    "id": "sAddG9dT2pr5"
   },
   "source": [
    "## Predictions on Test Set"
   ]
  },
  {
   "cell_type": "code",
   "execution_count": 58,
   "metadata": {
    "colab": {},
    "colab_type": "code",
    "id": "_1GvCH2c2pr7",
    "outputId": "061d1e77-1be5-4688-b830-5b8aa74ab285"
   },
   "outputs": [
    {
     "data": {
      "text/plain": [
       "(3745, 57)"
      ]
     },
     "execution_count": 58,
     "metadata": {},
     "output_type": "execute_result"
    }
   ],
   "source": [
    "X_test_linear.shape"
   ]
  },
  {
   "cell_type": "code",
   "execution_count": 59,
   "metadata": {
    "colab": {},
    "colab_type": "code",
    "id": "DOcs0eQ_2pr_"
   },
   "outputs": [],
   "source": [
    "# Logistic Regression\n",
    "y_test_pred_logit = logit.predict_proba(X_test_linear)[:,1]\n",
    "\n",
    "# Random Forests\n",
    "y_test_pred_rf = randomForestClassifier.predict_proba(X_test_linear)[:,1]\n",
    "\n",
    "# XGBoost\n",
    "y_test_pred_xgb = xgb_classifier.predict(X_test_linear)"
   ]
  },
  {
   "cell_type": "code",
   "execution_count": 60,
   "metadata": {
    "colab": {},
    "colab_type": "code",
    "id": "Yj_qW-4H2psD"
   },
   "outputs": [],
   "source": [
    "# np.savetxt('Submits/model_qmi_41_logit.csv', y_test_pred_logit,\n",
    "#            fmt='%1.15f', delimiter='.')"
   ]
  },
  {
   "cell_type": "code",
   "execution_count": 61,
   "metadata": {
    "colab": {},
    "colab_type": "code",
    "id": "ctuTlxz22psK"
   },
   "outputs": [],
   "source": [
    "# np.savetxt('Submits/model_qmi_42_rf.csv', y_test_pred_rf,\n",
    "#            fmt='%1.15f', delimiter='.')"
   ]
  },
  {
   "cell_type": "code",
   "execution_count": 62,
   "metadata": {
    "colab": {},
    "colab_type": "code",
    "id": "HUpFrvsN2psN"
   },
   "outputs": [],
   "source": [
    "# np.savetxt('Submits/model_qmi_43_xgb.csv', y_test_pred_xgb,\n",
    "#            fmt='%1.15f', delimiter='.')"
   ]
  },
  {
   "cell_type": "markdown",
   "metadata": {
    "colab_type": "text",
    "id": "zBdh3TSG2psQ"
   },
   "source": [
    "## Stacking\n",
    "\n",
    "https://www.kaggle.com/eliotbarr/stacking-test-sklearn-xgboost-catboost-lightgbm"
   ]
  },
  {
   "cell_type": "code",
   "execution_count": 63,
   "metadata": {
    "colab": {},
    "colab_type": "code",
    "id": "EVHx-52g2psR"
   },
   "outputs": [],
   "source": [
    "def get_oof(clf, x_train, y_train, x_test, NFOLDS, model):\n",
    "    \n",
    "    ntrain = len(x_train)\n",
    "    ntest = len(x_test)\n",
    "    \n",
    "    oof_train = np.zeros((ntrain,))\n",
    "    oof_test = np.zeros((ntest,))\n",
    "    oof_test_skf = np.empty((NFOLDS, ntest))\n",
    "\n",
    "    for i, (train_index, test_index) in enumerate(kf.split(x_train, y_train)):\n",
    "        x_tr = x_train.loc[train_index]\n",
    "        y_tr = y_train.loc[train_index]\n",
    "        x_te = x_train.loc[test_index]\n",
    "        \n",
    "        if model=='xgboost':\n",
    "            clf.fit(x_tr, y_tr, num_rounds=200)\n",
    "            oof_train[test_index] = clf.predict(x_te)\n",
    "            oof_test_skf[i, :] = clf.predict(x_test)\n",
    "        else:\n",
    "            clf.fit(x_tr, y_tr)\n",
    "            oof_train[test_index] = clf.predict_proba(x_te)[:,1]\n",
    "            oof_test_skf[i, :] = clf.predict_proba(x_test)[:,1]            \n",
    "\n",
    "    oof_test[:] = oof_test_skf.mean(axis=0)\n",
    "    return oof_train.reshape(-1, 1), oof_test.reshape(-1, 1)"
   ]
  },
  {
   "cell_type": "code",
   "execution_count": 64,
   "metadata": {
    "colab": {},
    "colab_type": "code",
    "id": "BjyAkhB82psU"
   },
   "outputs": [],
   "source": [
    "from sklearn.model_selection import StratifiedKFold\n",
    "\n",
    "NFOLDS = 10\n",
    "kf = StratifiedKFold(n_splits = NFOLDS, shuffle=True, random_state=RANDOM_STATE)\n",
    "y_series = pd.Series(y, index=X_train_linear.index)"
   ]
  },
  {
   "cell_type": "code",
   "execution_count": 65,
   "metadata": {
    "colab": {},
    "colab_type": "code",
    "id": "pAKFCNDi2psd",
    "outputId": "23dd50ce-e7dc-45e5-b66f-9139106a888d"
   },
   "outputs": [
    {
     "name": "stdout",
     "output_type": "stream",
     "text": [
      "Wall time: 29.3 s\n"
     ]
    }
   ],
   "source": [
    "%%time\n",
    "logit_oof_train, logit_oof_test = get_oof(logit, X_train_linear, y_series, X_test_linear, NFOLDS, model=None)"
   ]
  },
  {
   "cell_type": "code",
   "execution_count": 66,
   "metadata": {
    "colab": {},
    "colab_type": "code",
    "id": "E48RVFRI2psg",
    "outputId": "08ee24d3-2eaf-4279-9940-b824a81ca2ad"
   },
   "outputs": [
    {
     "name": "stdout",
     "output_type": "stream",
     "text": [
      "Wall time: 3min 55s\n"
     ]
    }
   ],
   "source": [
    "%%time\n",
    "rf_oof_train, rf_oof_test = get_oof(randomForestClassifier, X_train_linear, y_series, X_test_linear, NFOLDS, model=None)"
   ]
  },
  {
   "cell_type": "code",
   "execution_count": 67,
   "metadata": {
    "colab": {},
    "colab_type": "code",
    "id": "btZNcLjw2psi",
    "outputId": "50d80a6a-ad40-4882-8620-1dec4dfcfb95"
   },
   "outputs": [
    {
     "name": "stdout",
     "output_type": "stream",
     "text": [
      "Wall time: 2min 51s\n"
     ]
    }
   ],
   "source": [
    "%%time\n",
    "xgb_oof_train, xgb_oof_test = get_oof(xgb_classifier, X_train_linear, y_series, X_test_linear, NFOLDS, model='xgboost')"
   ]
  },
  {
   "cell_type": "code",
   "execution_count": 68,
   "metadata": {
    "colab": {},
    "colab_type": "code",
    "id": "khZioS6f2psm"
   },
   "outputs": [],
   "source": [
    "x_train = np.concatenate((logit_oof_train, rf_oof_train, xgb_oof_train), axis=1)\n",
    "x_test = np.concatenate((logit_oof_test, rf_oof_test, xgb_oof_test), axis=1)"
   ]
  },
  {
   "cell_type": "code",
   "execution_count": 69,
   "metadata": {
    "colab": {},
    "colab_type": "code",
    "id": "wZcuXmaU2psp",
    "outputId": "00c7a696-3478-4c41-a29c-8c8d93f2bf5a"
   },
   "outputs": [
    {
     "data": {
      "text/html": [
       "<div>\n",
       "<style scoped>\n",
       "    .dataframe tbody tr th:only-of-type {\n",
       "        vertical-align: middle;\n",
       "    }\n",
       "\n",
       "    .dataframe tbody tr th {\n",
       "        vertical-align: top;\n",
       "    }\n",
       "\n",
       "    .dataframe thead th {\n",
       "        text-align: right;\n",
       "    }\n",
       "</style>\n",
       "<table border=\"1\" class=\"dataframe\">\n",
       "  <thead>\n",
       "    <tr style=\"text-align: right;\">\n",
       "      <th></th>\n",
       "      <th>Logit</th>\n",
       "      <th>Random Forests</th>\n",
       "      <th>XGBoost</th>\n",
       "    </tr>\n",
       "  </thead>\n",
       "  <tbody>\n",
       "    <tr>\n",
       "      <th>Logit</th>\n",
       "      <td>1.000000</td>\n",
       "      <td>0.704826</td>\n",
       "      <td>0.656266</td>\n",
       "    </tr>\n",
       "    <tr>\n",
       "      <th>Random Forests</th>\n",
       "      <td>0.704826</td>\n",
       "      <td>1.000000</td>\n",
       "      <td>0.854345</td>\n",
       "    </tr>\n",
       "    <tr>\n",
       "      <th>XGBoost</th>\n",
       "      <td>0.656266</td>\n",
       "      <td>0.854345</td>\n",
       "      <td>1.000000</td>\n",
       "    </tr>\n",
       "  </tbody>\n",
       "</table>\n",
       "</div>"
      ],
      "text/plain": [
       "                   Logit  Random Forests   XGBoost\n",
       "Logit           1.000000        0.704826  0.656266\n",
       "Random Forests  0.704826        1.000000  0.854345\n",
       "XGBoost         0.656266        0.854345  1.000000"
      ]
     },
     "execution_count": 69,
     "metadata": {},
     "output_type": "execute_result"
    }
   ],
   "source": [
    "pd.DataFrame(x_train, columns=['Logit', 'Random Forests', 'XGBoost']).corr()"
   ]
  },
  {
   "cell_type": "code",
   "execution_count": 70,
   "metadata": {
    "colab": {},
    "colab_type": "code",
    "id": "7SdpOzSP2pss"
   },
   "outputs": [],
   "source": [
    "meta_learner = LogisticRegression()\n",
    "meta_learner.fit(x_train, y_series)\n",
    "y_pred_test_stacked = meta_learner.predict_proba(x_test)[:,1]"
   ]
  },
  {
   "cell_type": "code",
   "execution_count": 71,
   "metadata": {
    "colab": {},
    "colab_type": "code",
    "id": "25s_n0fM2psv"
   },
   "outputs": [],
   "source": [
    "# np.savetxt('Submits/model_qmi_51_logit_cv.csv', logit_oof_test,\n",
    "#            fmt='%1.15f', delimiter='.')"
   ]
  },
  {
   "cell_type": "code",
   "execution_count": 72,
   "metadata": {
    "colab": {},
    "colab_type": "code",
    "id": "Rc_Fo0kP2psy"
   },
   "outputs": [],
   "source": [
    "# np.savetxt('Submits/model_qmi_52_rf_cv.csv', rf_oof_test,\n",
    "#            fmt='%1.15f', delimiter='.')"
   ]
  },
  {
   "cell_type": "code",
   "execution_count": 73,
   "metadata": {
    "colab": {},
    "colab_type": "code",
    "id": "Av9ldQ3S2ps1"
   },
   "outputs": [],
   "source": [
    "# np.savetxt('Submits/model_qmi_53_xgb_cv.csv', xgb_oof_test,\n",
    "#            fmt='%1.15f', delimiter='.')"
   ]
  },
  {
   "cell_type": "code",
   "execution_count": 74,
   "metadata": {
    "colab": {},
    "colab_type": "code",
    "id": "W0xAzZuY2ps3",
    "outputId": "fc641132-f2b0-4796-fd3b-787653e22b20"
   },
   "outputs": [
    {
     "data": {
      "text/plain": [
       "(3745,)"
      ]
     },
     "execution_count": 74,
     "metadata": {},
     "output_type": "execute_result"
    }
   ],
   "source": [
    "y_pred_test_stacked.shape"
   ]
  },
  {
   "cell_type": "code",
   "execution_count": 75,
   "metadata": {
    "colab": {},
    "colab_type": "code",
    "id": "N24VcVNt2ps6",
    "outputId": "610842ff-cc3b-4980-9857-639ab25f80db"
   },
   "outputs": [
    {
     "data": {
      "text/plain": [
       "array([0.12514571, 0.0938358 , 0.0755461 , ..., 0.38423899, 0.30103921,\n",
       "       0.23997068])"
      ]
     },
     "execution_count": 75,
     "metadata": {},
     "output_type": "execute_result"
    }
   ],
   "source": [
    "y_pred_test_stacked"
   ]
  },
  {
   "cell_type": "code",
   "execution_count": 76,
   "metadata": {
    "colab": {},
    "colab_type": "code",
    "id": "SiBDyjtz2ps8",
    "outputId": "518725ea-1cc6-4a00-a5e6-5a8e56e9c50d"
   },
   "outputs": [
    {
     "data": {
      "text/plain": [
       "(3745,)"
      ]
     },
     "execution_count": 76,
     "metadata": {},
     "output_type": "execute_result"
    }
   ],
   "source": [
    "y_pred_test_stacked.shape"
   ]
  },
  {
   "cell_type": "code",
   "execution_count": 77,
   "metadata": {
    "colab": {},
    "colab_type": "code",
    "id": "EoxbsMNQ2ptB"
   },
   "outputs": [],
   "source": [
    "np.savetxt('../Submits/Groupe_NERD_validation_preds_3.csv', y_pred_test_stacked,\n",
    "           fmt='%1.15f', delimiter='.')"
   ]
  },
  {
   "cell_type": "markdown",
   "metadata": {
    "colab_type": "text",
    "id": "OKwe0e7w2ptD"
   },
   "source": [
    "**Comparaison with Testing Set**"
   ]
  },
  {
   "cell_type": "code",
   "execution_count": 78,
   "metadata": {
    "colab": {},
    "colab_type": "code",
    "id": "k0ksrqIi2ptD"
   },
   "outputs": [],
   "source": [
    "test_results = pd.read_csv('../Submits/model_qmi_54_stacked_cv_5822.csv')"
   ]
  },
  {
   "cell_type": "code",
   "execution_count": 82,
   "metadata": {},
   "outputs": [
    {
     "data": {
      "image/png": "[encoded data removed]",
      "text/plain": [
       "<matplotlib.figure.Figure at 0x1b26481d2e8>"
      ]
     },
     "metadata": {
      "needs_background": "light"
     },
     "output_type": "display_data"
    }
   ],
   "source": [
    "sns.distplot(test_results, color='blue', label='Test')\n",
    "sns.distplot(y_pred_test_stacked, color='green', label='Validation')\n",
    "plt.legend(loc='best')\n",
    "plt.show()"
   ]
  },
  {
   "cell_type": "markdown",
   "metadata": {
    "colab_type": "text",
    "id": "AkJtk5PB2ptH"
   },
   "source": [
    "## SHAP\n",
    "\n",
    "**XGBoost**"
   ]
  },
  {
   "cell_type": "code",
   "execution_count": 83,
   "metadata": {
    "colab": {},
    "colab_type": "code",
    "id": "fH0ZkuEh2ptI"
   },
   "outputs": [],
   "source": [
    "import shap"
   ]
  },
  {
   "cell_type": "code",
   "execution_count": 84,
   "metadata": {
    "colab": {},
    "colab_type": "code",
    "id": "S0iLRD262ptK",
    "outputId": "d545122f-a3dc-4394-e79d-512610cd9e47"
   },
   "outputs": [
    {
     "name": "stdout",
     "output_type": "stream",
     "text": [
      "Wall time: 22.4 s\n"
     ]
    }
   ],
   "source": [
    "%%time\n",
    "tree_explainer = shap.TreeExplainer(model=randomForestClassifier)\n",
    "tree_shap_values = tree_explainer.shap_values(X_test_linear)"
   ]
  },
  {
   "cell_type": "markdown",
   "metadata": {
    "colab_type": "text",
    "id": "DEruK8Sj2ptM"
   },
   "source": [
    "**Validation Set (10h-11h)**"
   ]
  },
  {
   "cell_type": "code",
   "execution_count": 86,
   "metadata": {
    "colab": {},
    "colab_type": "code",
    "id": "AlWR-Hx32ptM",
    "outputId": "a717a169-b86d-4a2e-c771-20af92598a20"
   },
   "outputs": [
    {
     "data": {
      "image/png": "[encoded data removed]",
      "text/plain": [
       "<matplotlib.figure.Figure at 0x1b264807898>"
      ]
     },
     "metadata": {
      "needs_background": "light"
     },
     "output_type": "display_data"
    }
   ],
   "source": [
    "shap.summary_plot(tree_shap_values[1], features=X_test_linear,\n",
    "                  feature_names=X_test_linear.columns, plot_type='violin',\n",
    "                  max_display=20)"
   ]
  },
  {
   "cell_type": "code",
   "execution_count": 87,
   "metadata": {
    "colab": {},
    "colab_type": "code",
    "id": "nEcOrlEk2ptO",
    "outputId": "f153d5ef-c24d-4a0f-ebcc-46f1b02eea7d"
   },
   "outputs": [
    {
     "data": {
      "image/png": "[encoded data removed]",
      "text/plain": [
       "<matplotlib.figure.Figure at 0x1b2639b7e10>"
      ]
     },
     "metadata": {
      "needs_background": "light"
     },
     "output_type": "display_data"
    }
   ],
   "source": [
    "shap.summary_plot(tree_shap_values[1], features=X_test_linear,\n",
    "                  feature_names=X_test_linear.columns, plot_type='bar',\n",
    "                  max_display=60, color='green')"
   ]
  },
  {
   "cell_type": "markdown",
   "metadata": {
    "colab_type": "text",
    "id": "1wmUseLv2ptW"
   },
   "source": [
    "**Stacked Learner**"
   ]
  },
  {
   "cell_type": "code",
   "execution_count": 88,
   "metadata": {
    "colab": {},
    "colab_type": "code",
    "id": "cfZbm1H62ptX",
    "outputId": "87bd3eb7-0d23-4167-d1d9-7274a68c68b3"
   },
   "outputs": [
    {
     "name": "stdout",
     "output_type": "stream",
     "text": [
      "Wall time: 601 ms\n"
     ]
    }
   ],
   "source": [
    "%%time\n",
    "linear_explainer = shap.LinearExplainer(model=meta_learner, data=x_test)\n",
    "linear_shap_values = linear_explainer.shap_values(x_test)"
   ]
  },
  {
   "cell_type": "code",
   "execution_count": 89,
   "metadata": {
    "colab": {},
    "colab_type": "code",
    "id": "AEbqOxdZ2ptb",
    "outputId": "9331d8ff-b46f-49fd-bf32-494d602c880f"
   },
   "outputs": [
    {
     "data": {
      "image/png": "[encoded data removed]",
      "text/plain": [
       "<matplotlib.figure.Figure at 0x1b26ead27b8>"
      ]
     },
     "metadata": {
      "needs_background": "light"
     },
     "output_type": "display_data"
    }
   ],
   "source": [
    "shap.summary_plot(linear_shap_values, features=X_test_linear,\n",
    "                  feature_names=['Logit', 'Random Forests', 'XGBoost'],\n",
    "                  plot_type='violin', max_display=20)"
   ]
  },
  {
   "cell_type": "code",
   "execution_count": 90,
   "metadata": {
    "colab": {},
    "colab_type": "code",
    "id": "YE7IWkeK2pth",
    "outputId": "cf5bf6f9-9293-4566-9e34-3efc856323e2"
   },
   "outputs": [
    {
     "data": {
      "image/png": "[encoded data removed]",
      "text/plain": [
       "<matplotlib.figure.Figure at 0x1b26ee7df60>"
      ]
     },
     "metadata": {
      "needs_background": "light"
     },
     "output_type": "display_data"
    }
   ],
   "source": [
    "shap.summary_plot(linear_shap_values, features=X_test_linear,\n",
    "                  feature_names=['Logit', 'Random Forests', 'XGBoost'],\n",
    "                  plot_type='bar', max_display=20, color='green')"
   ]
  },
  {
   "cell_type": "markdown",
   "metadata": {
    "colab_type": "text",
    "id": "fOWQJRj22xU0"
   },
   "source": [
    "# **Approche bonus pour la recherche des meilleures hyperparamètres: Optimization bayésienne avec Hyperopt**"
   ]
  },
  {
   "cell_type": "code",
   "execution_count": 0,
   "metadata": {
    "colab": {},
    "colab_type": "code",
    "id": "-mF5sI_A3N5x"
   },
   "outputs": [],
   "source": [
    "import hyperopt as hp\n",
    "\n",
    "def objective(space):\n",
    "\n",
    "    warnings.filterwarnings(action='ignore', category=DeprecationWarning)\n",
    "    classifier = xgb.XGBClassifier(n_estimators = space['n_estimators'],\n",
    "                                   max_depth = int(space['max_depth']),\n",
    "                                   learning_rate = space['learning_rate'],\n",
    "                                   gamma = space['gamma'],\n",
    "                                   min_child_weight = space['min_child_weight'],\n",
    "                                   subsample = space['subsample'],\n",
    "                                   colsample_bytree = space['colsample_bytree']\n",
    "                                  )\n",
    "    \n",
    "    classifier.fit(X_train_linear, y)\n",
    "\n",
    "    # Applying k-Fold Cross Validation\n",
    "    accuracies = cross_val_score(estimator = classifier, X = X_train_linear, y = y, cv = 10)\n",
    "    CrossValMean = accuracies.mean()\n",
    "\n",
    "    print(\"CrossValMean:\", CrossValMean)\n",
    "    print('new best:', space)\n",
    "\n",
    "    return {'loss': 1-CrossValMean, 'status': STATUS_OK }\n"
   ]
  },
  {
   "cell_type": "code",
   "execution_count": 0,
   "metadata": {
    "colab": {},
    "colab_type": "code",
    "id": "mttlV28u3SGn"
   },
   "outputs": [],
   "source": [
    "space = {\n",
    "    'max_depth' : hp.choice('max_depth', range(5, 30, 1)),\n",
    "    'learning_rate' : hp.quniform('learning_rate', 0.01, 0.5, 0.01),\n",
    "    'n_estimators' : hp.choice('n_estimators', range(20, 205, 5)),\n",
    "    'gamma' : hp.quniform('gamma', 0, 0.50, 0.01),\n",
    "    'min_child_weight' : hp.quniform('min_child_weight', 1, 10, 1),\n",
    "    'subsample' : hp.quniform('subsample', 0.1, 1, 0.01),\n",
    "    'colsample_bytree' : hp.quniform('colsample_bytree', 0.1, 1.0, 0.01)}\n",
    "\n",
    "trials = Trials()\n",
    "best = fmin(fn=objective,\n",
    "            space=space,\n",
    "            algo=tpe.suggest,\n",
    "            max_evals=50,\n",
    "            trials=trials)\n",
    "\n",
    "print(\"Best: \", best)"
   ]
  },
  {
   "cell_type": "markdown",
   "metadata": {},
   "source": [
    "    ██████████| 50/50 [27:25<00:00, 32.91s/trial, best loss: 0.26762407263387455] Best: {'colsample_bytree': 0.4, 'gamma': 0.11, 'learning_rate': 0.01, 'max_depth': 20, 'min_child_weight': 9.0, 'n_estimators': 22, 'subsample': 0.45}"
   ]
  },
  {
   "cell_type": "code",
   "execution_count": 0,
   "metadata": {
    "colab": {},
    "colab_type": "code",
    "id": "GjzRP-ME3ZlB"
   },
   "outputs": [],
   "source": [
    "from xgboost import XGBClassifier\n",
    "\n",
    "classifier = XGBClassifier(n_estimators = best['n_estimators'],\n",
    "                            max_depth = best['max_depth'],\n",
    "                            learning_rate = best['learning_rate'],\n",
    "                            gamma = best['gamma'],\n",
    "                            min_child_weight = best['min_child_weight'],\n",
    "                            subsample = best['subsample'],\n",
    "                            colsample_bytree = best['colsample_bytree']\n",
    "                            )\n",
    "\n",
    "classifier.fit(X_train_linear, y);"
   ]
  }
 ],
 "metadata": {
  "colab": {
   "collapsed_sections": [
    "s_bizTxT2pni",
    "enZz7juM2poa",
    "BSu4iKLV2pot",
    "16Cu-HKt2po5",
    "OtH1F-Kg2ppK",
    "uuL2qlmf2ppe",
    "_1eYQvfl2pp0",
    "HQL5SMJ52prJ",
    "ylLhRrjP2prZ",
    "sAddG9dT2pr5",
    "zBdh3TSG2psQ"
   ],
   "name": "Groupe_NERD_HACKATHON_Notebook.ipynb",
   "provenance": []
  },
  "kernelspec": {
   "display_name": "Python 3",
   "language": "python",
   "name": "python3"
  },
  "language_info": {
   "codemirror_mode": {
    "name": "ipython",
    "version": 3
   },
   "file_extension": ".py",
   "mimetype": "text/x-python",
   "name": "python",
   "nbconvert_exporter": "python",
   "pygments_lexer": "ipython3",
   "version": "3.6.4"
  },
  "toc": {
   "base_numbering": 1,
   "nav_menu": {},
   "number_sections": true,
   "sideBar": true,
   "skip_h1_title": false,
   "title_cell": "Table of Contents",
   "title_sidebar": "Contents",
   "toc_cell": true,
   "toc_position": {},
   "toc_section_display": true,
   "toc_window_display": true
  },
  "toc-autonumbering": true
 },
 "nbformat": 4,
 "nbformat_minor": 1
}
